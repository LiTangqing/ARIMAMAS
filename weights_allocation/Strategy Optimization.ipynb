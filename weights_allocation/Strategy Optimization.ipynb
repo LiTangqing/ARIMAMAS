{
 "cells": [
  {
   "cell_type": "code",
   "execution_count": 2,
   "metadata": {
    "ExecuteTime": {
     "end_time": "2019-04-02T20:01:29.328025Z",
     "start_time": "2019-04-02T20:01:25.786602Z"
    },
    "collapsed": true
   },
   "outputs": [],
   "source": [
    "import numpy as np\n",
    "import pandas as pd"
   ]
  },
  {
   "cell_type": "code",
   "execution_count": 56,
   "metadata": {
    "ExecuteTime": {
     "end_time": "2019-04-02T22:35:40.793091Z",
     "start_time": "2019-04-02T22:35:40.777143Z"
    },
    "collapsed": true
   },
   "outputs": [],
   "source": [
    "def sharpe_ratio(daily_returns):\n",
    "    # get volatility\n",
    "    vola_daily = np.std(daily_returns)\n",
    "    # get returns\n",
    "    total_returns = np.product(1 + daily_returns)\n",
    "    returns_daily = np.exp(np.log(total_returns)/daily_returns.shape[0]) - 1\n",
    "    return returns_daily / vola_daily\n",
    "    \n",
    "def sortino_ratio(daily_returns):\n",
    "    # get volatility\n",
    "    downsideReturns = daily_returns.copy()\n",
    "    downsideReturns[downsideReturns > 0] = 0\n",
    "    downsideVola = np.std(downsideReturns)\n",
    "    # get returns\n",
    "    total_returns = np.product(1 + daily_returns)\n",
    "    returns_daily = np.exp(np.log(total_returns)/daily_returns.shape[0]) - 1\n",
    "    return returns_daily / downsideVola\n",
    "\n",
    "def slippage_costs(high, low, close, delta_weights, factor=0.05):\n",
    "    \"\"\"Taken as (High - Low) * factor, measured in absolute costs.\"\"\"\n",
    "    slippage = (high - low) / close * 0.05\n",
    "    return abs(delta_weights * slippage)\n",
    "\n",
    "def single_sim(data, old_weights, new_weights, portfolio_val, pred_prices, index):\n",
    "    \"\"\"Computes the estimated sharpe ratio for tomorrow given weights and predictions.\"\"\"\n",
    "    # index of today for convenience of accessing data's values\n",
    "    TODAY, YTD = index, index-1\n",
    "    \n",
    "    # today's sharpe ratio (compute using past 5 days returns/std dev)\n",
    "    # array of each stock's pct return today\n",
    "    today_ret = (data.loc[TODAY, 'CLOSE'] - data.loc[YTD, 'CLOSE']) / data.loc[YTD, 'CLOSE']\n",
    "    # array of weighted stock pct returns\n",
    "    today_portfolio_ret = old_weights * today_ret\n",
    "    # add today's new portfolio value to Series of portfolio values\n",
    "    portfolio_val = portfolio_val.append(\n",
    "        pd.Series(np.sum(today_portfolio_ret) * portfolio_val.iloc[-1])\n",
    "    )\n",
    "    # sharpe of pct returns over past 5 days (inc. today)\n",
    "    today_sharpe = sharpe_ratio(portfolio_val.pct_change().tail(5))\n",
    "    \n",
    "    delta_weights = new_weights - old_weights\n",
    "    # Use today's high-low to estimate slippage tomorrow\n",
    "    slippage = slippage_costs(data.loc[TODAY, 'HIGH'], \n",
    "                              data.loc[TODAY, 'LOW'],\n",
    "                              data.loc[YTD, 'CLOSE'],\n",
    "                              delta_weights)\n",
    "    \n",
    "    # find tomorrow's returns based on new weights and predicted prices\n",
    "    # ASSUMPTION: tomorrow's OPEN = today's CLOSE\n",
    "    # array of each stock's predicted pct return tomorrow\n",
    "    pred_ret = (pred_prices - data.loc[TODAY, 'CLOSE']) / data.loc[TODAY, 'CLOSE'] # % change\n",
    "    # array of predicted weighted stock pct returns, deducting slippage for each stock\n",
    "    pred_portfolio_ret = new_weights * pred_ret - slippage\n",
    "    # sharpe of past 4 days (inc. today) and tomorrows predicted portfolio return\n",
    "    pred_sharpe = sharpe_ratio(\n",
    "        portfolio_val.append(\n",
    "            pd.Series(np.sum(pred_portfolio_ret) * portfolio_val.iloc[-1]))\\\n",
    "                     .pct_change()\\\n",
    "                     .tail(5)\n",
    "    )\n",
    "    # maximize the difference here to greedily optimize\n",
    "    return pred_sharpe - today_sharpe\n"
   ]
  },
  {
   "cell_type": "markdown",
   "metadata": {},
   "source": [
    "Below cells are for testing purposes to make sure it runs correctly."
   ]
  },
  {
   "cell_type": "code",
   "execution_count": 73,
   "metadata": {
    "ExecuteTime": {
     "end_time": "2019-04-02T22:56:30.791840Z",
     "start_time": "2019-04-02T22:56:30.742970Z"
    },
    "collapsed": false
   },
   "outputs": [],
   "source": [
    "df = pd.read_pickle('./data_base_test.pkl').fillna(method='ffill').fillna(method='bfill')[['F_AD', 'F_AE', 'F_C']]"
   ]
  },
  {
   "cell_type": "code",
   "execution_count": 74,
   "metadata": {
    "ExecuteTime": {
     "end_time": "2019-04-02T22:56:31.419058Z",
     "start_time": "2019-04-02T22:56:31.415070Z"
    },
    "collapsed": false
   },
   "outputs": [],
   "source": [
    "df.columns = df.columns.swaplevel()"
   ]
  },
  {
   "cell_type": "code",
   "execution_count": 97,
   "metadata": {
    "ExecuteTime": {
     "end_time": "2019-04-02T23:08:35.321079Z",
     "start_time": "2019-04-02T23:08:35.314102Z"
    },
    "collapsed": true
   },
   "outputs": [],
   "source": [
    "old = np.random.normal(size=3)\n",
    "new = np.random.normal(size=3)\n",
    "portfolio_val = pd.Series([1e6] * df.shape[0])\n",
    "pred_prices = df.tail(1)['CLOSE']"
   ]
  },
  {
   "cell_type": "code",
   "execution_count": 98,
   "metadata": {
    "ExecuteTime": {
     "end_time": "2019-04-02T23:08:39.073088Z",
     "start_time": "2019-04-02T23:08:39.051149Z"
    },
    "collapsed": false,
    "scrolled": true
   },
   "outputs": [
    {
     "data": {
      "text/plain": [
       "-0.026240826475426582"
      ]
     },
     "execution_count": 98,
     "metadata": {},
     "output_type": "execute_result"
    }
   ],
   "source": [
    "single_sim(df.reset_index(drop=True), old, new, portfolio_val, pred_prices, 30)"
   ]
  },
  {
   "cell_type": "markdown",
   "metadata": {},
   "source": [
    "* Budget = SGD1000\n",
    "* Stock A: SGD100 0.5 = 5 units,   predict SGD110 new_weight=0.6 = 6 units, est. profits=SGD60\n",
    "* Stock B: SGD200 0.5 = 2.5 units, predict SGD250 new_weight=0.4 = 2 units, est. profits=SGD100\n",
    "* True profit = (new_weight_A x Budget x price_change_A) + (new_weight_B x Budget x price_change_B)\n",
    "\n",
    "Questions:\n",
    "* How to set initial portfolio weights?"
   ]
  },
  {
   "cell_type": "markdown",
   "metadata": {},
   "source": [
    "# Steps for greedy MC portfolio optimization\n",
    "\n",
    "__Given predictions for next day + current portfolio weights, how to reweight the portfolio for Max. Sharpe__\n",
    "\n",
    "(Naive)\n",
    "1. Create random set of (delta) weights\n",
    "2. Calculate total slippage cost (check formula in runts)\n",
    "3. Using random weights, compute new portfolio estimated returns\n",
    "4. Use past 5 days returns, find current sharpe ratio\n",
    "5. Add next day's returns, find new sharpe ratio\n",
    "6. Maximise difference in the ratios\n",
    "\n",
    "# TODO: Create function to Monte Carlo simulate every day\n",
    "(use single_sim for each day, then pick best set of weights)"
   ]
  },
  {
   "cell_type": "code",
   "execution_count": null,
   "metadata": {
    "collapsed": true
   },
   "outputs": [],
   "source": [
    "def mc_simulation(portfolio, random_state=12345, num_sims=1e6):\n",
    "\n",
    "\n"
   ]
  },
  {
   "cell_type": "markdown",
   "metadata": {},
   "source": [
    "Sample code for MC portfolio optimization structure below:"
   ]
  },
  {
   "cell_type": "code",
   "execution_count": 2,
   "metadata": {
    "ExecuteTime": {
     "end_time": "2019-03-27T15:49:23.816297Z",
     "start_time": "2019-03-27T15:49:23.787375Z"
    },
    "collapsed": false
   },
   "outputs": [
    {
     "data": {
      "text/plain": [
       "array([ 0.46305446, -0.1298083 ,  1.04356154,  1.86002845,  1.77280517,\n",
       "       -1.09453811,  0.19059528, -2.46233494, -0.08431552, -1.8870674 ,\n",
       "       -0.38114357, -0.7243584 ,  0.48266087, -0.08356969, -0.06529756,\n",
       "        0.11033144,  0.60356231, -0.40662759, -0.4754821 ,  0.62786559,\n",
       "        0.5481597 ,  0.05239853,  0.97424779, -0.31027074, -1.41273487,\n",
       "       -0.46230565, -0.08986267,  0.41671073,  0.79423572, -2.27910835,\n",
       "        1.43016499,  0.8801555 , -0.36617876,  0.00471182,  0.24320903,\n",
       "        0.57418533, -1.3532336 ,  1.36713463, -0.77480615,  0.6634038 ,\n",
       "       -0.31926578, -0.85737327, -1.50334126,  0.26361554, -1.25975363,\n",
       "        0.64825206,  0.76701135,  1.13038294, -0.19706875, -0.14134681,\n",
       "        0.86965845, -0.47800553,  0.94566086, -0.34031788,  0.55310254,\n",
       "        0.61349786, -1.51288333, -2.42951861,  0.57955658,  2.09797294,\n",
       "        0.32083776,  0.78175145,  0.96816176, -0.82595979,  0.65010591,\n",
       "       -0.21436279,  0.4198624 , -0.16650518,  0.1671119 ,  0.80456623,\n",
       "        1.7564427 , -0.09875534, -0.54382109, -1.17273177, -0.84305084,\n",
       "       -0.20276668, -0.88304989,  0.10904754, -0.68589533,  0.17205669,\n",
       "        0.27075299,  0.493132  ,  0.19687817,  0.73463357, -0.47674875,\n",
       "       -0.76093916,  0.68212153, -0.42756717, -0.09909507, -1.58725449,\n",
       "        0.97207013,  0.90773685,  1.42964319, -1.34361399, -1.2183037 ,\n",
       "        0.7256073 ,  0.25953313, -1.73026387,  0.56918994, -1.47245999])"
      ]
     },
     "execution_count": 2,
     "metadata": {},
     "output_type": "execute_result"
    }
   ],
   "source": [
    "# empty lists to store returns, variance and weights of imiginary portfolios\n",
    "port_returns = []\n",
    "port_volatility = []\n",
    "sharpe_ratio = []\n",
    "stock_weights = []\n",
    "\n",
    "# set the number of combinations for imaginary portfolios\n",
    "num_assets = portfolio.shape[1]\n",
    "num_portfolios = 100000\n",
    "\n",
    "#set random seed for reproduction's sake\n",
    "np.random.seed(12345)\n",
    "\n",
    "# populate the empty lists with each portfolios returns,risk and weights\n",
    "for single_portfolio in range(num_portfolios):\n",
    "    weights = np.random.random(num_assets)\n",
    "    weights /= np.sum(weights)\n",
    "    returns = np.dot(weights, daily_mean)\n",
    "    volatility = np.sqrt(np.dot(weights, np.dot(daily_cov, weights)))\n",
    "    sharpe = (returns - rf)/ volatility\n",
    "    \n",
    "    sharpe_ratio.append(sharpe)\n",
    "    port_returns.append(returns)\n",
    "    port_volatility.append(volatility)\n",
    "    stock_weights.append(weights)\n",
    "\n",
    "# a dictionary for Returns and Risk values of each portfolio\n",
    "results = {'Returns': port_returns,\n",
    "           'Volatility': port_volatility,\n",
    "           'Sharpe Ratio': sharpe_ratio}\n",
    "\n",
    "# extend original dictionary to accomodate each ticker and weight in the portfolio\n",
    "for i, symbol in enumerate(names):\n",
    "    results[symbol+' Weight'] = [Weight[i] for Weight in stock_weights]"
   ]
  }
 ],
 "metadata": {
  "anaconda-cloud": {},
  "kernelspec": {
   "display_name": "Python [conda env:python35]",
   "language": "python",
   "name": "conda-env-python35-py"
  },
  "language_info": {
   "codemirror_mode": {
    "name": "ipython",
    "version": 3
   },
   "file_extension": ".py",
   "mimetype": "text/x-python",
   "name": "python",
   "nbconvert_exporter": "python",
   "pygments_lexer": "ipython3",
   "version": "3.5.6"
  },
  "toc": {
   "base_numbering": 1,
   "nav_menu": {},
   "number_sections": true,
   "sideBar": true,
   "skip_h1_title": false,
   "title_cell": "Table of Contents",
   "title_sidebar": "Contents",
   "toc_cell": false,
   "toc_position": {},
   "toc_section_display": true,
   "toc_window_display": false
  },
  "varInspector": {
   "cols": {
    "lenName": 16,
    "lenType": 16,
    "lenVar": 40
   },
   "kernels_config": {
    "python": {
     "delete_cmd_postfix": "",
     "delete_cmd_prefix": "del ",
     "library": "var_list.py",
     "varRefreshCmd": "print(var_dic_list())"
    },
    "r": {
     "delete_cmd_postfix": ") ",
     "delete_cmd_prefix": "rm(",
     "library": "var_list.r",
     "varRefreshCmd": "cat(var_dic_list()) "
    }
   },
   "types_to_exclude": [
    "module",
    "function",
    "builtin_function_or_method",
    "instance",
    "_Feature"
   ],
   "window_display": false
  }
 },
 "nbformat": 4,
 "nbformat_minor": 1
}
