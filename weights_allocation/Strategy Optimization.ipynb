{
 "cells": [
  {
   "cell_type": "code",
   "execution_count": 176,
   "metadata": {
    "ExecuteTime": {
     "end_time": "2019-04-02T20:01:29.328025Z",
     "start_time": "2019-04-02T20:01:25.786602Z"
    }
   },
   "outputs": [],
   "source": [
    "import numpy as np\n",
    "import pandas as pd"
   ]
  },
  {
   "cell_type": "code",
   "execution_count": 177,
   "metadata": {
    "ExecuteTime": {
     "end_time": "2019-04-02T22:35:40.793091Z",
     "start_time": "2019-04-02T22:35:40.777143Z"
    }
   },
   "outputs": [],
   "source": [
    "def sharpe_ratio(daily_returns):\n",
    "    # get volatility\n",
    "    vola_daily = np.std(daily_returns)\n",
    "    # get returns\n",
    "    total_returns = np.product(1 + daily_returns)\n",
    "    returns_daily = np.exp(np.log(total_returns)/daily_returns.shape[0]) - 1\n",
    "    return returns_daily / vola_daily\n",
    "    \n",
    "def sortino_ratio(daily_returns):\n",
    "    # get volatility\n",
    "    downsideReturns = daily_returns.copy()\n",
    "    downsideReturns[downsideReturns > 0] = 0\n",
    "    downsideVola = np.std(downsideReturns)\n",
    "    # get returns\n",
    "    total_returns = np.product(1 + daily_returns)\n",
    "    returns_daily = np.exp(np.log(total_returns)/daily_returns.shape[0]) - 1\n",
    "    return returns_daily / downsideVola\n",
    "\n",
    "def slippage_costs(high, low, close, delta_weights, factor=0.05):\n",
    "    \"\"\"Taken as (High - Low) * factor, measured in absolute costs.\"\"\"\n",
    "    slippage = (high - low) / close * 0.05\n",
    "    return abs(delta_weights * slippage)\n",
    "\n",
    "def single_sim(data, old_weights, new_weights, portfolio_val, pred_prices, index):\n",
    "    \"\"\"Computes the estimated sharpe ratio for tomorrow given weights and predictions.\"\"\"\n",
    "    # index of today for convenience of accessing data's values\n",
    "    TODAY, YTD = index, index-1\n",
    "    \n",
    "    # today's sharpe ratio (compute using past 5 days returns/std dev)\n",
    "    # array of each stock's pct return today\n",
    "    today_ret = (data.loc[TODAY, 'CLOSE'] - data.loc[YTD, 'CLOSE']) / data.loc[YTD, 'CLOSE']\n",
    "    # array of weighted stock pct returns\n",
    "    today_portfolio_ret = old_weights * today_ret\n",
    "    # add today's new portfolio value to Series of portfolio values\n",
    "    portfolio_val = portfolio_val.append(\n",
    "        pd.Series(np.sum(today_portfolio_ret) * portfolio_val.iloc[-1])\n",
    "    )\n",
    "    # sharpe of pct returns over past 5 days (inc. today)\n",
    "    today_sharpe = sharpe_ratio(portfolio_val.pct_change().tail(5))\n",
    "    \n",
    "    delta_weights = new_weights - old_weights\n",
    "    # Use today's high-low to estimate slippage tomorrow\n",
    "    slippage = slippage_costs(data.loc[TODAY, 'HIGH'], \n",
    "                              data.loc[TODAY, 'LOW'],\n",
    "                              data.loc[YTD, 'CLOSE'],\n",
    "                              delta_weights)\n",
    "    \n",
    "    # find tomorrow's returns based on new weights and predicted prices\n",
    "    # ASSUMPTION: tomorrow's OPEN = today's CLOSE\n",
    "    # array of each stock's predicted pct return tomorrow\n",
    "    pred_ret = (pred_prices - data.loc[TODAY, 'CLOSE']) / data.loc[TODAY, 'CLOSE'] # % change\n",
    "    # array of predicted weighted stock pct returns, deducting slippage for each stock\n",
    "    pred_portfolio_ret = new_weights * pred_ret - slippage\n",
    "    # sharpe of past 4 days (inc. today) and tomorrows predicted portfolio return\n",
    "    pred_sharpe = sharpe_ratio(\n",
    "        portfolio_val.append(\n",
    "            pd.Series(np.sum(pred_portfolio_ret) * portfolio_val.iloc[-1]))\\\n",
    "                     .pct_change()\\\n",
    "                     .tail(5)\n",
    "    )\n",
    "    # maximize the difference here to greedily optimize\n",
    "    return pred_sharpe - today_sharpe, pred_sharpe, pred_portfolio_ret, pred_sharpe\n"
   ]
  },
  {
   "cell_type": "markdown",
   "metadata": {},
   "source": [
    "Below cells are for testing purposes to make sure it runs correctly."
   ]
  },
  {
   "cell_type": "code",
   "execution_count": 151,
   "metadata": {
    "ExecuteTime": {
     "end_time": "2019-04-02T22:56:30.791840Z",
     "start_time": "2019-04-02T22:56:30.742970Z"
    }
   },
   "outputs": [],
   "source": [
    "df = pd.read_pickle('../data/data_base_test.pkl').fillna(method='ffill').fillna(method='bfill')[['F_AD', 'F_AE', 'F_C']]"
   ]
  },
  {
   "cell_type": "code",
   "execution_count": 152,
   "metadata": {
    "ExecuteTime": {
     "end_time": "2019-04-02T22:56:31.419058Z",
     "start_time": "2019-04-02T22:56:31.415070Z"
    }
   },
   "outputs": [],
   "source": [
    "df.columns = df.columns.swaplevel()"
   ]
  },
  {
   "cell_type": "code",
   "execution_count": 153,
   "metadata": {
    "ExecuteTime": {
     "end_time": "2019-04-02T23:08:35.321079Z",
     "start_time": "2019-04-02T23:08:35.314102Z"
    }
   },
   "outputs": [],
   "source": [
    "old = np.random.normal(size=3)\n",
    "new = np.random.normal(size=3)\n",
    "portfolio_val = pd.Series([1e6] * df.shape[0])\n",
    "pred_prices = df.tail(1)['CLOSE']\n",
    "increased_sharpe, pred_sharpe, pred_portfolio_ret, pred_sharpe = single_sim(df.reset_index(drop=True), \n",
    "                                                                            old, new, portfolio_val, \n",
    "                                                                            pred_prices, 30)"
   ]
  },
  {
   "cell_type": "code",
   "execution_count": 154,
   "metadata": {
    "scrolled": false
   },
   "outputs": [
    {
     "data": {
      "text/plain": [
       "1.332609804509306"
      ]
     },
     "execution_count": 154,
     "metadata": {},
     "output_type": "execute_result"
    }
   ],
   "source": [
    "increased_sharpe"
   ]
  },
  {
   "cell_type": "code",
   "execution_count": 155,
   "metadata": {},
   "outputs": [
    {
     "data": {
      "text/plain": [
       "-0.00596514345982034"
      ]
     },
     "execution_count": 155,
     "metadata": {},
     "output_type": "execute_result"
    }
   ],
   "source": [
    "pred_sharpe"
   ]
  },
  {
   "cell_type": "code",
   "execution_count": 156,
   "metadata": {},
   "outputs": [
    {
     "data": {
      "text/html": [
       "<div>\n",
       "<style scoped>\n",
       "    .dataframe tbody tr th:only-of-type {\n",
       "        vertical-align: middle;\n",
       "    }\n",
       "\n",
       "    .dataframe tbody tr th {\n",
       "        vertical-align: top;\n",
       "    }\n",
       "\n",
       "    .dataframe thead th {\n",
       "        text-align: right;\n",
       "    }\n",
       "</style>\n",
       "<table border=\"1\" class=\"dataframe\">\n",
       "  <thead>\n",
       "    <tr style=\"text-align: right;\">\n",
       "      <th>TICKER</th>\n",
       "      <th>F_AD</th>\n",
       "      <th>F_AE</th>\n",
       "      <th>F_C</th>\n",
       "    </tr>\n",
       "    <tr>\n",
       "      <th>DATE</th>\n",
       "      <th></th>\n",
       "      <th></th>\n",
       "      <th></th>\n",
       "    </tr>\n",
       "  </thead>\n",
       "  <tbody>\n",
       "    <tr>\n",
       "      <th>2017-12-29</th>\n",
       "      <td>-0.002698</td>\n",
       "      <td>-0.900013</td>\n",
       "      <td>0.01441</td>\n",
       "    </tr>\n",
       "  </tbody>\n",
       "</table>\n",
       "</div>"
      ],
      "text/plain": [
       "TICKER          F_AD      F_AE      F_C\n",
       "DATE                                   \n",
       "2017-12-29 -0.002698 -0.900013  0.01441"
      ]
     },
     "execution_count": 156,
     "metadata": {},
     "output_type": "execute_result"
    }
   ],
   "source": [
    "pred_portfolio_ret"
   ]
  },
  {
   "cell_type": "code",
   "execution_count": 157,
   "metadata": {},
   "outputs": [
    {
     "data": {
      "text/plain": [
       "array([-0.00269814, -0.90001274,  0.01441012])"
      ]
     },
     "execution_count": 157,
     "metadata": {},
     "output_type": "execute_result"
    }
   ],
   "source": [
    "np.asarray(pred_portfolio_ret).reshape(-1)"
   ]
  },
  {
   "cell_type": "code",
   "execution_count": 158,
   "metadata": {},
   "outputs": [
    {
     "data": {
      "text/plain": [
       "-0.00596514345982034"
      ]
     },
     "execution_count": 158,
     "metadata": {},
     "output_type": "execute_result"
    }
   ],
   "source": [
    "pred_sharpe "
   ]
  },
  {
   "cell_type": "markdown",
   "metadata": {},
   "source": [
    "* Budget = SGD1000\n",
    "* Stock A: SGD100 0.5 = 5 units,   predict SGD110 new_weight=0.6 = 6 units, est. profits=SGD60\n",
    "* Stock B: SGD200 0.5 = 2.5 units, predict SGD250 new_weight=0.4 = 2 units, est. profits=SGD100\n",
    "* True profit = (new_weight_A x Budget x price_change_A) + (new_weight_B x Budget x price_change_B)\n",
    "\n",
    "Questions:\n",
    "* How to set initial portfolio weights?"
   ]
  },
  {
   "cell_type": "markdown",
   "metadata": {},
   "source": [
    "# Steps for greedy MC portfolio optimization\n",
    "\n",
    "__Given predictions for next day + current portfolio weights, how to reweight the portfolio for Max. Sharpe__\n",
    "\n",
    "(Naive)\n",
    "1. Create random set of (delta) weights\n",
    "2. Calculate total slippage cost (check formula in runts)\n",
    "3. Using random weights, compute new portfolio estimated returns\n",
    "4. Use past 5 days returns, find current sharpe ratio\n",
    "5. Add next day's returns, find new sharpe ratio\n",
    "6. Maximise difference in the ratios\n",
    "\n",
    "# TODO: Create function to Monte Carlo simulate every day\n",
    "(use single_sim for each day, then pick best set of weights)"
   ]
  },
  {
   "cell_type": "code",
   "execution_count": 167,
   "metadata": {},
   "outputs": [],
   "source": [
    "def mc_simulation(portfolio, old_weights, portfolio_val, pred_prices, \n",
    "                  index, random_state=12345, num_sims=1000000):\n",
    "    # i suppose here hte portfolio is the same as data used in single_sim\n",
    "    # portfolio_val: list of hist portfolio values \n",
    "    # names: names of futures\n",
    "    \n",
    "    #set random seed for reproduction's sake\n",
    "    np.random.seed(12345)\n",
    "    # set the number of combinations for imaginary portfolios\n",
    "    num_assets = old_weights.shape[0]\n",
    "    print(\"number of assets:\", num_assets)\n",
    "    df = portfolio\n",
    "    \n",
    "    df.columns = df.columns.swaplevel()\n",
    "    print(df.head())\n",
    "    \n",
    "    #port_returns = []\n",
    "    #port_volatility = []\n",
    "    increased_sharpe_ratios = []\n",
    "    sharpe_ratios = []\n",
    "    stock_weights = []\n",
    "\n",
    "    # populate the empty lists with each portfolios returns,risk and weights\n",
    "    for single_portfolio in range(num_sims):\n",
    "        # new weights\n",
    "        weights = np.random.normal(size=num_assets)\n",
    "        new_weights = weights / np.sum(np.absolute(weights))\n",
    "        \n",
    "        increased_sharpe, pred_sharpe, pred_portfolio_ret, pred_sharpe = single_sim(df.reset_index(drop=True), \n",
    "                                                             old_weights, new_weights, portfolio_val, \n",
    "                                                             pred_prices, index)\n",
    "        stock_weights.append(new_weights)\n",
    "        increased_sharpe_ratios.append(increased_sharpe)\n",
    "        sharpe_ratios.append(pred_sharpe)\n",
    "    \n",
    "    return stock_weights, increased_sharpe_ratios, sharpe_ratios\n"
   ]
  },
  {
   "cell_type": "code",
   "execution_count": 168,
   "metadata": {
    "scrolled": true
   },
   "outputs": [
    {
     "name": "stdout",
     "output_type": "stream",
     "text": [
      "number of assets: 3\n",
      "PRICE          OPEN     HIGH      LOW    CLOSE     OPEN     HIGH      LOW  \\\n",
      "TICKER         F_AD     F_AD     F_AD     F_AD     F_AE     F_AE     F_AE   \n",
      "DATE                                                                        \n",
      "2016-01-01  72690.0  72750.0  71310.0  71580.0  87590.0  87600.0  85400.0   \n",
      "2016-01-04  72690.0  72750.0  71310.0  71580.0  87590.0  87600.0  85400.0   \n",
      "2016-01-05  71570.0  71900.0  71090.0  71270.0  87130.0  87420.0  85700.0   \n",
      "2016-01-06  71360.0  71480.0  70250.0  70370.0  86390.0  86750.0  84840.0   \n",
      "2016-01-07  70400.0  70640.0  69580.0  69730.0  84260.0  84640.0  82340.0   \n",
      "\n",
      "PRICE         CLOSE     OPEN     HIGH      LOW    CLOSE  \n",
      "TICKER         F_AE      F_C      F_C      F_C      F_C  \n",
      "DATE                                                     \n",
      "2016-01-01  86320.0  17975.0  18000.0  17525.0  17575.0  \n",
      "2016-01-04  86320.0  17975.0  18000.0  17525.0  17575.0  \n",
      "2016-01-05  86970.0  17638.0  17800.0  17588.0  17650.0  \n",
      "2016-01-06  85730.0  17675.0  17738.0  17513.0  17663.0  \n",
      "2016-01-07  84120.0  17663.0  17713.0  17425.0  17650.0  \n"
     ]
    },
    {
     "name": "stderr",
     "output_type": "stream",
     "text": [
      "/anaconda3/lib/python3.6/site-packages/ipykernel/__main__.py:6: RuntimeWarning: invalid value encountered in log\n"
     ]
    }
   ],
   "source": [
    "stock_weights, increased_sharpe_ratios, sharpe_ratios = mc_simulation(portfolio=df, old_weights=old, portfolio_val=portfolio_val, \n",
    "              pred_prices=pred_prices, index=30, random_state=12345, num_sims=100)"
   ]
  },
  {
   "cell_type": "code",
   "execution_count": 170,
   "metadata": {},
   "outputs": [
    {
     "data": {
      "text/plain": [
       "([array([-0.17015162,  0.39809445, -0.43175393]),\n",
       "  array([-0.14195201,  0.50212577,  0.35592222]),\n",
       "  array([0.08123614, 0.24635124, 0.67241261]),\n",
       "  array([ 0.35112369,  0.28372768, -0.36514863]),\n",
       "  array([0.14809806, 0.12328212, 0.72861982]),\n",
       "  array([ 0.27191842, -0.61401628, -0.11406531]),\n",
       "  array([ 0.63045454, -0.16566452, -0.20388094]),\n",
       "  array([ 0.10047805,  0.6843979 , -0.21512405]),\n",
       "  array([-0.57488999,  0.12364867,  0.30146133]),\n",
       "  array([2.80313547e-01, 5.03220034e-04, 7.19183233e-01]),\n",
       "  array([-0.1822623 , -0.2123036 , -0.60543411]),\n",
       "  array([-0.56701755, -0.26229301,  0.17068944]),\n",
       "  array([-0.5168611 ,  0.04892353, -0.43421537]),\n",
       "  array([ 0.11511086, -0.81588717, -0.06900197]),\n",
       "  array([-0.40368893, -0.2541352 , -0.34217586]),\n",
       "  array([ 0.20190779,  0.26652001, -0.5315722 ]),\n",
       "  array([0.18920829, 0.77088281, 0.03990891]),\n",
       "  array([ 0.19525439, -0.00938903,  0.79535658]),\n",
       "  array([ 0.34967006, -0.24219375, -0.40813618]),\n",
       "  array([ 0.01539451,  0.52624928, -0.45835621]),\n",
       "  array([ 0.93492319, -0.01087326,  0.05420355]),\n",
       "  array([ 0.27035184,  0.34406939, -0.38557877]),\n",
       "  array([-0.00788315, -0.77318198, -0.21893487]),\n",
       "  array([-0.33603377, -0.36756229,  0.29640394]),\n",
       "  array([0.29962134, 0.28569295, 0.41468571]),\n",
       "  array([-0.24582456, -0.30406305, -0.45011239]),\n",
       "  array([-0.72590488,  0.22280082,  0.05129429]),\n",
       "  array([-0.48077332,  0.33915894,  0.18006774]),\n",
       "  array([ 0.26368447,  0.47607961, -0.26023593]),\n",
       "  array([ 0.44895957, -0.06944938,  0.48159105]),\n",
       "  array([ 0.07611852,  0.87740077, -0.0464807 ]),\n",
       "  array([0.70838055, 0.01046828, 0.28115117]),\n",
       "  array([ 0.0813646 , -0.51565573,  0.40297967]),\n",
       "  array([ 0.06693775, -0.68642865, -0.2466336 ]),\n",
       "  array([-0.02261679, -0.64324785, -0.33413536]),\n",
       "  array([-0.01716565,  0.51850762,  0.46432673]),\n",
       "  array([-0.21833503,  0.58583164, -0.19583333]),\n",
       "  array([ 0.15458883,  0.3145781 , -0.53083307]),\n",
       "  array([-0.6212702 , -0.24476044,  0.13396935]),\n",
       "  array([-0.07700486,  0.26643303, -0.65656212]),\n",
       "  array([-0.59704638, -0.30923908,  0.09371453]),\n",
       "  array([ 0.62923159, -0.2460691 , -0.12469932]),\n",
       "  array([ 0.0951652 , -0.53616455, -0.36867026]),\n",
       "  array([-0.00559076, -0.40241565, -0.59199359]),\n",
       "  array([0.53046836, 0.32093105, 0.14860059]),\n",
       "  array([ 0.24111698,  0.56753996, -0.19134306]),\n",
       "  array([-0.18554534,  0.3071125 , -0.50734216]),\n",
       "  array([ 0.53206394,  0.20466208, -0.26327398]),\n",
       "  array([ 0.21971799, -0.46031291, -0.31996909]),\n",
       "  array([-0.01285954,  0.5103779 ,  0.47676256]),\n",
       "  array([-0.42549111,  0.40352433, -0.17098456]),\n",
       "  array([-0.45734847,  0.11639204, -0.42625949]),\n",
       "  array([-0.13955111,  0.39717879,  0.4632701 ]),\n",
       "  array([-0.31728707, -0.53316732, -0.14954561]),\n",
       "  array([-0.39330608,  0.44104556, -0.16564836]),\n",
       "  array([ 0.51839784, -0.03979587,  0.44180628]),\n",
       "  array([0.39264771, 0.15258623, 0.45476606]),\n",
       "  array([-0.29857193,  0.3196523 , -0.38177577]),\n",
       "  array([-0.46619808, -0.18075304, -0.35304889]),\n",
       "  array([-0.45792814,  0.23755785, -0.30451401]),\n",
       "  array([-0.30399585, -0.19963083, -0.49637332]),\n",
       "  array([0.41443494, 0.28567326, 0.29989181]),\n",
       "  array([-0.48602549, -0.31659667, -0.19737784]),\n",
       "  array([-0.16518073, -0.41906249, -0.41575678]),\n",
       "  array([0.45913418, 0.14609375, 0.39477207]),\n",
       "  array([ 0.27231707, -0.30517509, -0.42250784]),\n",
       "  array([0.48446615, 0.09426042, 0.42127343]),\n",
       "  array([-0.39059798,  0.21260381, -0.39679821]),\n",
       "  array([-0.25196595, -0.17788027, -0.57015379]),\n",
       "  array([-0.14745391, -0.72473192, -0.12781417]),\n",
       "  array([ 0.56912635,  0.23803563, -0.19283802]),\n",
       "  array([ 0.44194337, -0.04837296,  0.50968367]),\n",
       "  array([-0.31206483,  0.22230925,  0.46562592]),\n",
       "  array([-0.21845284, -0.38107824,  0.40046893]),\n",
       "  array([-0.28186827, -0.53480432,  0.18332741]),\n",
       "  array([0.46049734, 0.49856276, 0.04093989]),\n",
       "  array([-0.23932855,  0.14899185, -0.61167961]),\n",
       "  array([-0.41166639, -0.2487395 ,  0.33959411]),\n",
       "  array([-0.14196386, -0.59630326, -0.26173288]),\n",
       "  array([0.78190284, 0.00315357, 0.21494359]),\n",
       "  array([-0.58483852, -0.01294964,  0.40221184]),\n",
       "  array([-0.2323008 ,  0.37612181, -0.39157739]),\n",
       "  array([ 0.32833194, -0.18070205,  0.49096602]),\n",
       "  array([-0.1183456 ,  0.49744328, -0.38421112]),\n",
       "  array([-0.12964988, -0.58685372,  0.2834964 ]),\n",
       "  array([-0.5903779 , -0.12615809, -0.28346401]),\n",
       "  array([-0.45091737,  0.16620233, -0.38288029]),\n",
       "  array([ 0.27065919, -0.05274895,  0.67659186]),\n",
       "  array([-0.41603991, -0.45863879, -0.1253213 ]),\n",
       "  array([ 0.36244421, -0.30020055,  0.33735525]),\n",
       "  array([ 0.12852388, -0.04875194, -0.82272418]),\n",
       "  array([ 0.3008344 ,  0.14316165, -0.55600394]),\n",
       "  array([-0.54681075, -0.37397486, -0.07921438]),\n",
       "  array([-0.5142763 , -0.12025722, -0.36546649]),\n",
       "  array([ 0.02438047, -0.4896869 ,  0.48593263]),\n",
       "  array([-0.2347088 , -0.532608  ,  0.23268321]),\n",
       "  array([-0.51378229,  0.22727507, -0.25894264]),\n",
       "  array([ 0.16171703, -0.57251022,  0.26577275]),\n",
       "  array([ 0.03672769, -0.1379089 ,  0.8253634 ]),\n",
       "  array([ 0.51875894, -0.1485447 ,  0.33269637])],\n",
       " [1.1153085972576617,\n",
       "  nan,\n",
       "  nan,\n",
       "  0.6497611975355274,\n",
       "  nan,\n",
       "  1.1026171362976191,\n",
       "  0.03151171040567835,\n",
       "  1.2599455418383374,\n",
       "  nan,\n",
       "  nan,\n",
       "  0.8807595732881616,\n",
       "  nan,\n",
       "  -0.3710116289239136,\n",
       "  1.2610898165859894,\n",
       "  0.4872687173566038,\n",
       "  0.9286870877629384,\n",
       "  nan,\n",
       "  nan,\n",
       "  0.6843367722611744,\n",
       "  1.3261611032260356,\n",
       "  nan,\n",
       "  0.906640993146299,\n",
       "  1.33086624334959,\n",
       "  nan,\n",
       "  nan,\n",
       "  0.8989142104800313,\n",
       "  nan,\n",
       "  nan,\n",
       "  1.031967221171879,\n",
       "  nan,\n",
       "  1.289805159756769,\n",
       "  nan,\n",
       "  nan,\n",
       "  1.2886019753606557,\n",
       "  1.3172317549953352,\n",
       "  nan,\n",
       "  1.1367083394833837,\n",
       "  1.0772327471675165,\n",
       "  nan,\n",
       "  1.1856148214381084,\n",
       "  nan,\n",
       "  0.28065923134288706,\n",
       "  1.248577793221151,\n",
       "  1.3274259196226617,\n",
       "  nan,\n",
       "  1.1020561075020576,\n",
       "  1.0310899286994226,\n",
       "  -0.04760171228375576,\n",
       "  1.0966032864509567,\n",
       "  nan,\n",
       "  0.8051608360425465,\n",
       "  0.034245264703306244,\n",
       "  nan,\n",
       "  0.9982727653831647,\n",
       "  0.8785184185532002,\n",
       "  nan,\n",
       "  nan,\n",
       "  0.8755061821910197,\n",
       "  0.0841724804969457,\n",
       "  0.4856206950930665,\n",
       "  0.5410982689627548,\n",
       "  nan,\n",
       "  0.4886574032258244,\n",
       "  1.1229651314887639,\n",
       "  nan,\n",
       "  0.9092114748856078,\n",
       "  nan,\n",
       "  0.5262652471111218,\n",
       "  0.6013021118513036,\n",
       "  1.221740718393085,\n",
       "  0.03277187423111361,\n",
       "  nan,\n",
       "  nan,\n",
       "  nan,\n",
       "  nan,\n",
       "  nan,\n",
       "  0.623324567725921,\n",
       "  nan,\n",
       "  1.205699470751795,\n",
       "  nan,\n",
       "  nan,\n",
       "  1.021642417846288,\n",
       "  nan,\n",
       "  1.2106269312662636,\n",
       "  nan,\n",
       "  -0.39037760382441045,\n",
       "  0.27095831714493146,\n",
       "  nan,\n",
       "  0.8160063035754719,\n",
       "  nan,\n",
       "  0.4462091227412247,\n",
       "  0.19013031692276527,\n",
       "  0.4935260044282772,\n",
       "  -0.2870531578689708,\n",
       "  nan,\n",
       "  nan,\n",
       "  0.374647269300886,\n",
       "  nan,\n",
       "  nan,\n",
       "  nan],\n",
       " [-0.2232663507114645,\n",
       "  nan,\n",
       "  nan,\n",
       "  -0.6888137504335988,\n",
       "  nan,\n",
       "  -0.23595781167150717,\n",
       "  -1.3070632375634479,\n",
       "  -0.07862940613078885,\n",
       "  nan,\n",
       "  nan,\n",
       "  -0.45781537468096467,\n",
       "  nan,\n",
       "  -1.7095865768930398,\n",
       "  -0.07748513138313691,\n",
       "  -0.8513062306125224,\n",
       "  -0.40988786020618784,\n",
       "  nan,\n",
       "  nan,\n",
       "  -0.6542381757079518,\n",
       "  -0.012413844743090489,\n",
       "  nan,\n",
       "  -0.43193395482282726,\n",
       "  -0.0077087046195362715,\n",
       "  nan,\n",
       "  nan,\n",
       "  -0.43966073748909495,\n",
       "  nan,\n",
       "  nan,\n",
       "  -0.30660772679724724,\n",
       "  nan,\n",
       "  -0.04876978821235725,\n",
       "  nan,\n",
       "  nan,\n",
       "  -0.04997297260847065,\n",
       "  -0.02134319297379106,\n",
       "  nan,\n",
       "  -0.2018666084857425,\n",
       "  -0.2613422008016097,\n",
       "  nan,\n",
       "  -0.15296012653101795,\n",
       "  nan,\n",
       "  -1.0579157166262392,\n",
       "  -0.08999715474797515,\n",
       "  -0.011149028346464654,\n",
       "  nan,\n",
       "  -0.2365188404670687,\n",
       "  -0.3074850192697037,\n",
       "  -1.386176660252882,\n",
       "  -0.24197166151816954,\n",
       "  nan,\n",
       "  -0.5334141119265797,\n",
       "  -1.30432968326582,\n",
       "  nan,\n",
       "  -0.3403021825859616,\n",
       "  -0.46005652941592606,\n",
       "  nan,\n",
       "  nan,\n",
       "  -0.46306876577810646,\n",
       "  -1.2544024674721805,\n",
       "  -0.8529542528760597,\n",
       "  -0.7974766790063714,\n",
       "  nan,\n",
       "  -0.8499175447433018,\n",
       "  -0.2156098164803624,\n",
       "  nan,\n",
       "  -0.4293634730835184,\n",
       "  nan,\n",
       "  -0.8123097008580045,\n",
       "  -0.7372728361178227,\n",
       "  -0.11683422957604117,\n",
       "  -1.3058030737380126,\n",
       "  nan,\n",
       "  nan,\n",
       "  nan,\n",
       "  nan,\n",
       "  nan,\n",
       "  -0.7152503802432052,\n",
       "  nan,\n",
       "  -0.13287547721733117,\n",
       "  nan,\n",
       "  nan,\n",
       "  -0.31693253012283834,\n",
       "  nan,\n",
       "  -0.12794801670286265,\n",
       "  nan,\n",
       "  -1.7289525517935367,\n",
       "  -1.0676166308241948,\n",
       "  nan,\n",
       "  -0.5225686443936544,\n",
       "  nan,\n",
       "  -0.8923658252279015,\n",
       "  -1.148444631046361,\n",
       "  -0.845048943540849,\n",
       "  -1.625628105838097,\n",
       "  nan,\n",
       "  nan,\n",
       "  -0.9639276786682403,\n",
       "  nan,\n",
       "  nan,\n",
       "  nan])"
      ]
     },
     "execution_count": 170,
     "metadata": {},
     "output_type": "execute_result"
    }
   ],
   "source": [
    "stock_weights, increased_sharpe_ratios, sharpe_ratios"
   ]
  },
  {
   "cell_type": "markdown",
   "metadata": {},
   "source": [
    "Sample code for MC portfolio optimization structure below:"
   ]
  },
  {
   "cell_type": "code",
   "execution_count": 9,
   "metadata": {
    "ExecuteTime": {
     "end_time": "2019-03-27T15:49:23.816297Z",
     "start_time": "2019-03-27T15:49:23.787375Z"
    }
   },
   "outputs": [
    {
     "ename": "NameError",
     "evalue": "name 'portfolio' is not defined",
     "output_type": "error",
     "traceback": [
      "\u001b[0;31m---------------------------------------------------------------------------\u001b[0m",
      "\u001b[0;31mNameError\u001b[0m                                 Traceback (most recent call last)",
      "\u001b[0;32m<ipython-input-9-474ed60cd07a>\u001b[0m in \u001b[0;36m<module>\u001b[0;34m()\u001b[0m\n\u001b[1;32m      6\u001b[0m \u001b[0;34m\u001b[0m\u001b[0m\n\u001b[1;32m      7\u001b[0m \u001b[0;31m# set the number of combinations for imaginary portfolios\u001b[0m\u001b[0;34m\u001b[0m\u001b[0;34m\u001b[0m\u001b[0m\n\u001b[0;32m----> 8\u001b[0;31m \u001b[0mnum_assets\u001b[0m \u001b[0;34m=\u001b[0m \u001b[0mportfolio\u001b[0m\u001b[0;34m.\u001b[0m\u001b[0mshape\u001b[0m\u001b[0;34m[\u001b[0m\u001b[0;36m1\u001b[0m\u001b[0;34m]\u001b[0m\u001b[0;34m\u001b[0m\u001b[0m\n\u001b[0m\u001b[1;32m      9\u001b[0m \u001b[0mnum_portfolios\u001b[0m \u001b[0;34m=\u001b[0m \u001b[0;36m100000\u001b[0m\u001b[0;34m\u001b[0m\u001b[0m\n\u001b[1;32m     10\u001b[0m \u001b[0;34m\u001b[0m\u001b[0m\n",
      "\u001b[0;31mNameError\u001b[0m: name 'portfolio' is not defined"
     ]
    }
   ],
   "source": [
    "# empty lists to store returns, variance and weights of imiginary portfolios\n",
    "port_returns = []\n",
    "port_volatility = []\n",
    "sharpe_ratio = []\n",
    "stock_weights = []\n",
    "\n",
    "# set the number of combinations for imaginary portfolios\n",
    "num_assets = portfolio.shape[1]\n",
    "num_portfolios = 100000\n",
    "\n",
    "#set random seed for reproduction's sake\n",
    "np.random.seed(12345)\n",
    "\n",
    "# populate the empty lists with each portfolios returns,risk and weights\n",
    "for single_portfolio in range(num_portfolios):\n",
    "    weights = np.random.random(num_assets)\n",
    "    print(weights)\n",
    "    weights /= np.sum(weights)\n",
    "    returns = np.dot(weights, daily_mean)\n",
    "    volatility = np.sqrt(np.dot(weights, np.dot(daily_cov, weights)))\n",
    "    sharpe = (returns - rf)/ volatility\n",
    "    \n",
    "    sharpe_ratio.append(sharpe)\n",
    "    port_returns.append(returns)\n",
    "    port_volatility.append(volatility)\n",
    "    stock_weights.append(weights)\n",
    "\n",
    "# a dictionary for Returns and Risk values of each portfolio\n",
    "results = {'Returns': port_returns,\n",
    "           'Volatility': port_volatility,\n",
    "           'Sharpe Ratio': sharpe_ratio}\n",
    "\n",
    "# extend original dictionary to accomodate each ticker and weight in the portfolio\n",
    "for i, symbol in enumerate(names):\n",
    "    results[symbol+' Weight'] = [Weight[i] for Weight in stock_weights]"
   ]
  },
  {
   "cell_type": "markdown",
   "metadata": {},
   "source": [
    "### Another possible way - run optimisation directly "
   ]
  },
  {
   "cell_type": "code",
   "execution_count": 182,
   "metadata": {},
   "outputs": [],
   "source": [
    "df = pd.read_pickle('../data/data_base_test.pkl').fillna(method='ffill').fillna(method='bfill')[['F_AD', 'F_AE', 'F_C']]"
   ]
  },
  {
   "cell_type": "code",
   "execution_count": 183,
   "metadata": {},
   "outputs": [],
   "source": [
    "df.columns = df.columns.swaplevel()\n",
    "old = np.random.normal(size=3)\n",
    "new = np.random.normal(size=3)\n",
    "portfolio_val = pd.Series([1e6] * df.shape[0])\n",
    "pred_prices = df.tail(1)['CLOSE']"
   ]
  },
  {
   "cell_type": "code",
   "execution_count": 184,
   "metadata": {},
   "outputs": [],
   "source": [
    "def single_sim_sharpe(portfolio, new_weights, old_weights, portfolio_val, pred_prices, index):\n",
    "    \"\"\"copy from the above, except return the sharpe instead of the difference\"\"\"\n",
    "    \"\"\"Computes the estimated sharpe ratio for tomorrow given weights and predictions.\"\"\"\n",
    "    data = portfolio\n",
    "     \n",
    "    # index of today for convenience of accessing data's values \n",
    "    TODAY, YTD = index, index-1\n",
    "    \n",
    "    # today's sharpe ratio (compute using past 5 days returns/std dev)\n",
    "    # array of each stock's pct return today\n",
    "    today_ret = (data.loc[TODAY, 'CLOSE'] - data.loc[YTD, 'CLOSE']) / data.loc[YTD, 'CLOSE']\n",
    "    # array of weighted stock pct returns\n",
    "    today_portfolio_ret = old_weights * today_ret\n",
    "    # add today's new portfolio value to Series of portfolio values\n",
    "    portfolio_val = portfolio_val.append(\n",
    "        pd.Series(np.sum(today_portfolio_ret) * portfolio_val.iloc[-1])\n",
    "    )\n",
    "    # sharpe of pct returns over past 5 days (inc. today)\n",
    "    today_sharpe = sharpe_ratio(portfolio_val.pct_change().tail(5))\n",
    "    \n",
    "    delta_weights = new_weights - old_weights\n",
    "    # Use today's high-low to estimate slippage tomorrow\n",
    "    slippage = slippage_costs(data.loc[TODAY, 'HIGH'], \n",
    "                              data.loc[TODAY, 'LOW'],\n",
    "                              data.loc[YTD, 'CLOSE'],\n",
    "                              delta_weights)\n",
    "    \n",
    "    # find tomorrow's returns based on new weights and predicted prices\n",
    "    # ASSUMPTION: tomorrow's OPEN = today's CLOSE\n",
    "    # array of each stock's predicted pct return tomorrow\n",
    "    pred_ret = (pred_prices - data.loc[TODAY, 'CLOSE']) / data.loc[TODAY, 'CLOSE'] # % change\n",
    "    # array of predicted weighted stock pct returns, deducting slippage for each stock\n",
    "    pred_portfolio_ret = new_weights * pred_ret - slippage\n",
    "    # sharpe of past 4 days (inc. today) and tomorrows predicted portfolio return\n",
    "    pred_sharpe = sharpe_ratio(\n",
    "        portfolio_val.append(\n",
    "            pd.Series(np.sum(pred_portfolio_ret) * portfolio_val.iloc[-1]))\\\n",
    "                     .pct_change()\\\n",
    "                     .tail(5)\n",
    "    )\n",
    "    # maximize the difference here to greedily optimize\n",
    "    return pred_sharpe  "
   ]
  },
  {
   "cell_type": "code",
   "execution_count": 188,
   "metadata": {},
   "outputs": [],
   "source": [
    "from scipy.optimize import minimize\n",
    "\n",
    "def neg_obj_function(new_weights, data, old_weights, portfolio_val, pred_prices, index):\n",
    "    return -single_sim_sharpe(data, old_weights, new_weights, \n",
    "                       portfolio_val, pred_prices, index)\n",
    "\n",
    "def max_diff_sharpe_ratio(data, old_weights, portfolio_val, pred_prices, index):\n",
    "    num_assets = old_weights.shape[0]\n",
    "    args = (data, old_weights, portfolio_val, pred_prices, index)\n",
    "    \n",
    "    # constraint: sum of weight = 1\n",
    "    constraints = ({'type': 'eq', 'fun': lambda x: np.sum(x) - 1})\n",
    "    # for each future, search from -1 to 1\n",
    "    bound = (-1.0, 1.0)\n",
    "    bounds = tuple(bound for asset in range(num_assets))\n",
    "    \n",
    "    # run optimisation:\n",
    "    # maximize the sharpe = minimize the neg value of it\n",
    "    result = minimize(neg_obj_function, num_assets*[1./num_assets,], \n",
    "                      args=args, method='SLSQP', \n",
    "                      bounds=bounds, constraints=constraints)\n",
    "    return result "
   ]
  },
  {
   "cell_type": "code",
   "execution_count": 189,
   "metadata": {},
   "outputs": [
    {
     "data": {
      "text/plain": [
       "     fun: 0.2800502281986486\n",
       "     jac: array([ 0.0005504 , -0.01603321,  0.00311245])\n",
       " message: 'Optimization terminated successfully.'\n",
       "    nfev: 110\n",
       "     nit: 19\n",
       "    njev: 19\n",
       "  status: 0\n",
       " success: True\n",
       "       x: array([ 3.8139954e-07,  1.0000000e+00, -3.8139954e-07])"
      ]
     },
     "execution_count": 189,
     "metadata": {},
     "output_type": "execute_result"
    }
   ],
   "source": [
    "max_diff_sharpe_ratio(df.reset_index(drop=True), old, portfolio_val, pred_prices, 30 )"
   ]
  },
  {
   "cell_type": "code",
   "execution_count": 190,
   "metadata": {},
   "outputs": [
    {
     "data": {
      "text/plain": [
       "array([1, 1, 1])"
      ]
     },
     "execution_count": 190,
     "metadata": {},
     "output_type": "execute_result"
    }
   ],
   "source": [
    "np.absolute(np.asarray([1,-1,1]))"
   ]
  },
  {
   "cell_type": "code",
   "execution_count": null,
   "metadata": {},
   "outputs": [],
   "source": []
  }
 ],
 "metadata": {
  "anaconda-cloud": {},
  "kernelspec": {
   "display_name": "Python [default]",
   "language": "python",
   "name": "python3"
  },
  "language_info": {
   "codemirror_mode": {
    "name": "ipython",
    "version": 3
   },
   "file_extension": ".py",
   "mimetype": "text/x-python",
   "name": "python",
   "nbconvert_exporter": "python",
   "pygments_lexer": "ipython3",
   "version": "3.6.2"
  },
  "toc": {
   "base_numbering": 1,
   "nav_menu": {},
   "number_sections": true,
   "sideBar": true,
   "skip_h1_title": false,
   "title_cell": "Table of Contents",
   "title_sidebar": "Contents",
   "toc_cell": false,
   "toc_position": {},
   "toc_section_display": true,
   "toc_window_display": false
  },
  "varInspector": {
   "cols": {
    "lenName": 16,
    "lenType": 16,
    "lenVar": 40
   },
   "kernels_config": {
    "python": {
     "delete_cmd_postfix": "",
     "delete_cmd_prefix": "del ",
     "library": "var_list.py",
     "varRefreshCmd": "print(var_dic_list())"
    },
    "r": {
     "delete_cmd_postfix": ") ",
     "delete_cmd_prefix": "rm(",
     "library": "var_list.r",
     "varRefreshCmd": "cat(var_dic_list()) "
    }
   },
   "types_to_exclude": [
    "module",
    "function",
    "builtin_function_or_method",
    "instance",
    "_Feature"
   ],
   "window_display": false
  }
 },
 "nbformat": 4,
 "nbformat_minor": 1
}
