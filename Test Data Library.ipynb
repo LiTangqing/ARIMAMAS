{
 "cells": [
  {
   "cell_type": "code",
   "execution_count": 1,
   "metadata": {},
   "outputs": [],
   "source": [
    "import quantiacsToolbox\n",
    "import pandas as pd\n",
    "import numpy as np"
   ]
  },
  {
   "cell_type": "code",
   "execution_count": 3,
   "metadata": {},
   "outputs": [],
   "source": [
    "s = \"\"\"USA_BC, USA_BI, USA_BOT, USA_CCPI, USA_CCR, USA_CF, USA_CFNAI, USA_CINF, USA_CP, USA_CPI, USA_CPIC, USA_CPICM, USA_CU, USA_DUR, USA_DURET, USA_EXPX, USA_EXVOL, USA_FBI, USA_FRET, USA_GBVL, USA_GPAY, USA_HI, USA_IMPX, USA_IMVOL, USA_IP, USA_IPMOM, USA_LEI, USA_LFPR, USA_MP, USA_MPAY, USA_NAHB, USA_NFIB, USA_NFP, USA_NLTTF, USA_NPP, USA_PFED, USA_PPIC, USA_RFMI, USA_RSEA, USA_RSM, USA_RSY, USA_TVS, USA_UNR, USA_WINV\"\"\""
   ]
  },
  {
   "cell_type": "code",
   "execution_count": 5,
   "metadata": {},
   "outputs": [],
   "source": [
    "indicators = s.split(', ')"
   ]
  },
  {
   "cell_type": "code",
   "execution_count": 7,
   "metadata": {},
   "outputs": [],
   "source": [
    "markets = ['F_AD','F_BO','F_BP','F_C','F_CC',\n",
    "           'F_CD','F_CL','F_CT','F_DX','F_EC','F_ED',\n",
    "           'F_ES','F_FC','F_FV','F_GC','F_HG','F_HO',\n",
    "           'F_JY','F_KC','F_LB','F_LC','F_LN','F_MD',\n",
    "           'F_MP','F_NG','F_NQ','F_NR','F_O','F_OJ',\n",
    "           'F_PA','F_PL','F_RB','F_RU','F_S','F_SB',\n",
    "           'F_SF','F_SI','F_SM','F_TU','F_TY','F_US',\n",
    "           'F_W','F_XX','F_YM','F_AX','F_CA','F_DT',\n",
    "           'F_UB','F_UZ','F_GS','F_LX','F_SS','F_DL',\n",
    "           'F_ZQ','F_VX','F_AE','F_BG','F_BC','F_LU',\n",
    "           'F_DM','F_AH','F_CF','F_DZ','F_FB','F_FL',\n",
    "           'F_FM','F_FP','F_FY','F_GX','F_HP','F_LR',\n",
    "           'F_LQ','F_ND','F_NY','F_PQ','F_RR','F_RF',\n",
    "           'F_RP','F_RY','F_SH','F_SX','F_TR','F_EB',\n",
    "           'F_GD','F_F']\n",
    "begin = \"20170119\"\n",
    "end = \"20190331\""
   ]
  },
  {
   "cell_type": "code",
   "execution_count": 10,
   "metadata": {
    "scrolled": true
   },
   "outputs": [
    {
     "name": "stdout",
     "output_type": "stream",
     "text": [
      "Downloaded CASH\n",
      "Downloaded F_CC\n",
      "Downloaded F_CL\n",
      "Downloaded F_CT\n",
      "Downloaded F_ES\n",
      "Downloaded F_HG\n",
      "Downloaded F_HO\n",
      "Downloaded F_KC\n",
      "Downloaded F_LB\n",
      "Downloaded F_LC\n",
      "Downloaded F_LN\n",
      "Downloaded F_NG\n",
      "Downloaded F_NQ\n",
      "Downloaded F_NR\n",
      "Downloaded F_O\n",
      "Downloaded F_OJ\n",
      "Downloaded F_PA\n",
      "Downloaded F_PL\n",
      "Downloaded F_RB\n",
      "Downloaded F_RU\n",
      "Downloaded F_S\n",
      "Downloaded F_SB\n",
      "Downloaded F_SI\n",
      "Downloaded F_SM\n",
      "Downloaded F_W\n",
      "Downloaded F_VX\n",
      "Downloaded F_BG\n",
      "Downloaded F_BC\n",
      "Downloaded F_DZ\n",
      "Downloaded F_FB\n",
      "Downloaded F_HP\n",
      "Downloaded F_LR\n",
      "Downloaded F_LQ\n",
      "Downloaded F_NY\n",
      "Downloaded F_SH\n",
      "Downloaded F_TR\n",
      "Loading Data...\n",
      "Done!\n"
     ]
    }
   ],
   "source": [
    "data = quantiacsToolbox.loadData(markets + indicators,\n",
    "                                 dataToLoad = ['DATE','OPEN','HIGH', 'LOW', 'CLOSE'],\n",
    "                                 beginInSample=begin, endInSample=end)"
   ]
  },
  {
   "cell_type": "code",
   "execution_count": 29,
   "metadata": {},
   "outputs": [],
   "source": [
    "import os"
   ]
  },
  {
   "cell_type": "code",
   "execution_count": 34,
   "metadata": {},
   "outputs": [],
   "source": [
    "files = list(filter(lambda x: 'F_' in x, os.listdir('./tickerData/')))\n",
    "res = []\n",
    "for filename in files:\n",
    "    res.append(pd.read_table('./tickerData/' + filename, sep=',', index_col='DATE',\n",
    "                             parse_dates=True, skipinitialspace=True,\n",
    "                             usecols=['CLOSE','OPEN','HIGH','LOW','DATE']))\n",
    "df = pd.concat(res, axis=1,\n",
    "               keys=map(lambda x: x[:-4], files),\n",
    "               names=['TICKER', 'PRICE'])['2019-01-02':'2019-04-08']\\\n",
    "        .asfreq('D').asfreq('B')"
   ]
  },
  {
   "cell_type": "code",
   "execution_count": 40,
   "metadata": {},
   "outputs": [],
   "source": [
    "df.to_pickle('2019_test_85tickers.pkl')"
   ]
  },
  {
   "cell_type": "code",
   "execution_count": 59,
   "metadata": {},
   "outputs": [],
   "source": [
    "res = []\n",
    "for filename in indicators:\n",
    "    res.append(pd.read_table('./tickerData/' + filename + '.txt', sep=',', index_col='DATE',\n",
    "                             parse_dates=True, skipinitialspace=True,\n",
    "                             usecols=['CLOSE','DATE']))\n",
    "df = pd.concat(res, axis=1)['2018-12-01':'2019-04-08']\n",
    "df.columns = indicators"
   ]
  },
  {
   "cell_type": "code",
   "execution_count": 63,
   "metadata": {},
   "outputs": [],
   "source": [
    "df.reindex(pd.DatetimeIndex(start='2018-12-01', end='2019-04-08', freq='B'))\\\n",
    ".interpolate()\\\n",
    ".rolling(20, min_periods=2)\\\n",
    ".mean()\\\n",
    ".round(2)\\\n",
    ".loc['2019-01-02':]\\\n",
    ".to_pickle('2019_test_44indic.pkl')\n"
   ]
  }
 ],
 "metadata": {
  "kernelspec": {
   "display_name": "Python [default]",
   "language": "python",
   "name": "python3"
  },
  "language_info": {
   "codemirror_mode": {
    "name": "ipython",
    "version": 3
   },
   "file_extension": ".py",
   "mimetype": "text/x-python",
   "name": "python",
   "nbconvert_exporter": "python",
   "pygments_lexer": "ipython3",
   "version": "3.5.6"
  }
 },
 "nbformat": 4,
 "nbformat_minor": 1
}
