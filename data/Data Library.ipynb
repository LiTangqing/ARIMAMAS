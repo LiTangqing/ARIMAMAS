{
 "cells": [
  {
   "cell_type": "code",
   "execution_count": 1,
   "metadata": {},
   "outputs": [],
   "source": [
    "from __future__ import division, print_function\n",
    "\n",
    "import pandas as pd\n",
    "import numpy as np\n",
    "import os"
   ]
  },
  {
   "cell_type": "markdown",
   "metadata": {},
   "source": [
    "# Read in Future data and split to train test sets"
   ]
  },
  {
   "cell_type": "code",
   "execution_count": 31,
   "metadata": {},
   "outputs": [],
   "source": [
    "files = filter(lambda x: 'F_' in x, os.listdir('./tickerData/'))\n",
    "res = []\n",
    "for filename in files:\n",
    "    res.append(pd.read_table('./tickerData/' + filename, sep=',', index_col='DATE',\n",
    "                             parse_dates=True, skipinitialspace=True,\n",
    "                             usecols=['CLOSE','OPEN','HIGH','LOW','DATE']))"
   ]
  },
  {
   "cell_type": "code",
   "execution_count": 44,
   "metadata": {},
   "outputs": [],
   "source": [
    "df = pd.concat(res, axis=1,\n",
    "               keys=map(lambda x: x[:-4], files),\n",
    "               names=['TICKER', 'PRICE'])['1990-01-01':'2019-01-01']\\\n",
    "        .asfreq('D').asfreq('B')"
   ]
  },
  {
   "cell_type": "code",
   "execution_count": 48,
   "metadata": {
    "scrolled": true
   },
   "outputs": [],
   "source": [
    "base_train = df[:'2015-12-31']\n",
    "base_test = df['2016-01-01':'2017-12-31']\n",
    "stack_test = df['2018-01-01':]"
   ]
  },
  {
   "cell_type": "code",
   "execution_count": 49,
   "metadata": {},
   "outputs": [
    {
     "data": {
      "text/plain": [
       "(6783, 352)"
      ]
     },
     "execution_count": 49,
     "metadata": {},
     "output_type": "execute_result"
    }
   ],
   "source": [
    "base_train.shape"
   ]
  },
  {
   "cell_type": "code",
   "execution_count": 54,
   "metadata": {},
   "outputs": [],
   "source": [
    "base_train.to_pickle('data_base_train.pkl')"
   ]
  },
  {
   "cell_type": "code",
   "execution_count": 50,
   "metadata": {},
   "outputs": [
    {
     "data": {
      "text/plain": [
       "(521, 352)"
      ]
     },
     "execution_count": 50,
     "metadata": {},
     "output_type": "execute_result"
    }
   ],
   "source": [
    "base_test.shape"
   ]
  },
  {
   "cell_type": "code",
   "execution_count": 56,
   "metadata": {},
   "outputs": [],
   "source": [
    "base_test.to_pickle('data_base_test.pkl')"
   ]
  },
  {
   "cell_type": "code",
   "execution_count": 51,
   "metadata": {},
   "outputs": [
    {
     "data": {
      "text/plain": [
       "(261, 352)"
      ]
     },
     "execution_count": 51,
     "metadata": {},
     "output_type": "execute_result"
    }
   ],
   "source": [
    "stack_test.shape"
   ]
  },
  {
   "cell_type": "code",
   "execution_count": 57,
   "metadata": {},
   "outputs": [],
   "source": [
    "stack_test.to_pickle('data_stack_test.pkl')"
   ]
  },
  {
   "cell_type": "markdown",
   "metadata": {},
   "source": [
    "# Read in economic indicators and extrapolate and train test split"
   ]
  },
  {
   "cell_type": "code",
   "execution_count": 8,
   "metadata": {},
   "outputs": [],
   "source": [
    "files = filter(lambda x: 'USA_' in x, os.listdir('./tickerData/'))\n",
    "res = []\n",
    "for filename in files:\n",
    "    res.append(pd.read_table('./tickerData/' + filename, sep=',', index_col='DATE',\n",
    "                             parse_dates=True, skipinitialspace=True,\n",
    "                             usecols=['CLOSE','DATE']))"
   ]
  },
  {
   "cell_type": "code",
   "execution_count": 187,
   "metadata": {
    "scrolled": true
   },
   "outputs": [
    {
     "data": {
      "text/html": [
       "<div>\n",
       "<style scoped>\n",
       "    .dataframe tbody tr th:only-of-type {\n",
       "        vertical-align: middle;\n",
       "    }\n",
       "\n",
       "    .dataframe tbody tr th {\n",
       "        vertical-align: top;\n",
       "    }\n",
       "\n",
       "    .dataframe thead th {\n",
       "        text-align: right;\n",
       "    }\n",
       "</style>\n",
       "<table border=\"1\" class=\"dataframe\">\n",
       "  <thead>\n",
       "    <tr style=\"text-align: right;\">\n",
       "      <th></th>\n",
       "      <th>USA_ADP</th>\n",
       "      <th>USA_BC</th>\n",
       "      <th>USA_BI</th>\n",
       "      <th>USA_BOT</th>\n",
       "      <th>USA_CCPI</th>\n",
       "      <th>USA_CCR</th>\n",
       "      <th>USA_CF</th>\n",
       "      <th>USA_CFNAI</th>\n",
       "      <th>USA_CHJC</th>\n",
       "      <th>USA_CINF</th>\n",
       "      <th>...</th>\n",
       "      <th>USA_PHS</th>\n",
       "      <th>USA_PP</th>\n",
       "      <th>USA_PPIC</th>\n",
       "      <th>USA_RFMI</th>\n",
       "      <th>USA_RSEA</th>\n",
       "      <th>USA_RSM</th>\n",
       "      <th>USA_RSY</th>\n",
       "      <th>USA_TVS</th>\n",
       "      <th>USA_UNR</th>\n",
       "      <th>USA_WINV</th>\n",
       "    </tr>\n",
       "    <tr>\n",
       "      <th>DATE</th>\n",
       "      <th></th>\n",
       "      <th></th>\n",
       "      <th></th>\n",
       "      <th></th>\n",
       "      <th></th>\n",
       "      <th></th>\n",
       "      <th></th>\n",
       "      <th></th>\n",
       "      <th></th>\n",
       "      <th></th>\n",
       "      <th></th>\n",
       "      <th></th>\n",
       "      <th></th>\n",
       "      <th></th>\n",
       "      <th></th>\n",
       "      <th></th>\n",
       "      <th></th>\n",
       "      <th></th>\n",
       "      <th></th>\n",
       "      <th></th>\n",
       "      <th></th>\n",
       "    </tr>\n",
       "  </thead>\n",
       "  <tbody>\n",
       "    <tr>\n",
       "      <th>1990-01-01</th>\n",
       "      <td>NaN</td>\n",
       "      <td>46.8</td>\n",
       "      <td>NaN</td>\n",
       "      <td>-7531.0</td>\n",
       "      <td>131.1</td>\n",
       "      <td>3.7</td>\n",
       "      <td>-8115.0</td>\n",
       "      <td>0.25</td>\n",
       "      <td>NaN</td>\n",
       "      <td>4.4</td>\n",
       "      <td>...</td>\n",
       "      <td>NaN</td>\n",
       "      <td>NaN</td>\n",
       "      <td>4.64</td>\n",
       "      <td>NaN</td>\n",
       "      <td>NaN</td>\n",
       "      <td>NaN</td>\n",
       "      <td>NaN</td>\n",
       "      <td>NaN</td>\n",
       "      <td>5.4</td>\n",
       "      <td>NaN</td>\n",
       "    </tr>\n",
       "    <tr>\n",
       "      <th>1990-01-31</th>\n",
       "      <td>NaN</td>\n",
       "      <td>47.4</td>\n",
       "      <td>NaN</td>\n",
       "      <td>-7631.0</td>\n",
       "      <td>131.6</td>\n",
       "      <td>4.8</td>\n",
       "      <td>15613.0</td>\n",
       "      <td>-0.03</td>\n",
       "      <td>NaN</td>\n",
       "      <td>4.4</td>\n",
       "      <td>...</td>\n",
       "      <td>NaN</td>\n",
       "      <td>NaN</td>\n",
       "      <td>4.91</td>\n",
       "      <td>NaN</td>\n",
       "      <td>NaN</td>\n",
       "      <td>NaN</td>\n",
       "      <td>NaN</td>\n",
       "      <td>NaN</td>\n",
       "      <td>5.4</td>\n",
       "      <td>NaN</td>\n",
       "    </tr>\n",
       "    <tr>\n",
       "      <th>1990-02-28</th>\n",
       "      <td>NaN</td>\n",
       "      <td>47.2</td>\n",
       "      <td>NaN</td>\n",
       "      <td>-4571.0</td>\n",
       "      <td>132.1</td>\n",
       "      <td>4.3</td>\n",
       "      <td>6310.0</td>\n",
       "      <td>-0.38</td>\n",
       "      <td>NaN</td>\n",
       "      <td>4.4</td>\n",
       "      <td>...</td>\n",
       "      <td>NaN</td>\n",
       "      <td>NaN</td>\n",
       "      <td>5.85</td>\n",
       "      <td>NaN</td>\n",
       "      <td>NaN</td>\n",
       "      <td>NaN</td>\n",
       "      <td>NaN</td>\n",
       "      <td>NaN</td>\n",
       "      <td>5.4</td>\n",
       "      <td>NaN</td>\n",
       "    </tr>\n",
       "    <tr>\n",
       "      <th>1990-04-02</th>\n",
       "      <td>NaN</td>\n",
       "      <td>49.1</td>\n",
       "      <td>NaN</td>\n",
       "      <td>-7454.0</td>\n",
       "      <td>132.7</td>\n",
       "      <td>3.1</td>\n",
       "      <td>-2468.0</td>\n",
       "      <td>0.83</td>\n",
       "      <td>NaN</td>\n",
       "      <td>4.6</td>\n",
       "      <td>...</td>\n",
       "      <td>NaN</td>\n",
       "      <td>NaN</td>\n",
       "      <td>5.10</td>\n",
       "      <td>NaN</td>\n",
       "      <td>NaN</td>\n",
       "      <td>NaN</td>\n",
       "      <td>NaN</td>\n",
       "      <td>NaN</td>\n",
       "      <td>5.3</td>\n",
       "      <td>NaN</td>\n",
       "    </tr>\n",
       "    <tr>\n",
       "      <th>1990-04-30</th>\n",
       "      <td>NaN</td>\n",
       "      <td>49.9</td>\n",
       "      <td>NaN</td>\n",
       "      <td>-5141.0</td>\n",
       "      <td>133.5</td>\n",
       "      <td>1.1</td>\n",
       "      <td>6192.0</td>\n",
       "      <td>0.21</td>\n",
       "      <td>NaN</td>\n",
       "      <td>4.9</td>\n",
       "      <td>...</td>\n",
       "      <td>NaN</td>\n",
       "      <td>NaN</td>\n",
       "      <td>4.55</td>\n",
       "      <td>NaN</td>\n",
       "      <td>NaN</td>\n",
       "      <td>NaN</td>\n",
       "      <td>NaN</td>\n",
       "      <td>NaN</td>\n",
       "      <td>5.2</td>\n",
       "      <td>NaN</td>\n",
       "    </tr>\n",
       "  </tbody>\n",
       "</table>\n",
       "<p>5 rows × 54 columns</p>\n",
       "</div>"
      ],
      "text/plain": [
       "            USA_ADP  USA_BC  USA_BI  USA_BOT  USA_CCPI  USA_CCR   USA_CF  \\\n",
       "DATE                                                                       \n",
       "1990-01-01      NaN    46.8     NaN  -7531.0     131.1      3.7  -8115.0   \n",
       "1990-01-31      NaN    47.4     NaN  -7631.0     131.6      4.8  15613.0   \n",
       "1990-02-28      NaN    47.2     NaN  -4571.0     132.1      4.3   6310.0   \n",
       "1990-04-02      NaN    49.1     NaN  -7454.0     132.7      3.1  -2468.0   \n",
       "1990-04-30      NaN    49.9     NaN  -5141.0     133.5      1.1   6192.0   \n",
       "\n",
       "            USA_CFNAI  USA_CHJC  USA_CINF    ...     USA_PHS  USA_PP  \\\n",
       "DATE                                         ...                       \n",
       "1990-01-01       0.25       NaN       4.4    ...         NaN     NaN   \n",
       "1990-01-31      -0.03       NaN       4.4    ...         NaN     NaN   \n",
       "1990-02-28      -0.38       NaN       4.4    ...         NaN     NaN   \n",
       "1990-04-02       0.83       NaN       4.6    ...         NaN     NaN   \n",
       "1990-04-30       0.21       NaN       4.9    ...         NaN     NaN   \n",
       "\n",
       "            USA_PPIC  USA_RFMI  USA_RSEA  USA_RSM  USA_RSY  USA_TVS  USA_UNR  \\\n",
       "DATE                                                                           \n",
       "1990-01-01      4.64       NaN       NaN      NaN      NaN      NaN      5.4   \n",
       "1990-01-31      4.91       NaN       NaN      NaN      NaN      NaN      5.4   \n",
       "1990-02-28      5.85       NaN       NaN      NaN      NaN      NaN      5.4   \n",
       "1990-04-02      5.10       NaN       NaN      NaN      NaN      NaN      5.3   \n",
       "1990-04-30      4.55       NaN       NaN      NaN      NaN      NaN      5.2   \n",
       "\n",
       "            USA_WINV  \n",
       "DATE                  \n",
       "1990-01-01       NaN  \n",
       "1990-01-31       NaN  \n",
       "1990-02-28       NaN  \n",
       "1990-04-02       NaN  \n",
       "1990-04-30       NaN  \n",
       "\n",
       "[5 rows x 54 columns]"
      ]
     },
     "execution_count": 187,
     "metadata": {},
     "output_type": "execute_result"
    }
   ],
   "source": [
    "df = pd.concat(res, axis=1)['1990-01-01':'2019-01-01']\n",
    "df.columns = map(lambda x: x[:-4], files)\n",
    "df.head()"
   ]
  },
  {
   "cell_type": "code",
   "execution_count": 44,
   "metadata": {
    "scrolled": true
   },
   "outputs": [],
   "source": [
    "names = pd.read_csv('./EconomicIndicators.csv')"
   ]
  },
  {
   "cell_type": "code",
   "execution_count": 159,
   "metadata": {},
   "outputs": [
    {
     "data": {
      "text/html": [
       "<div>\n",
       "<style scoped>\n",
       "    .dataframe tbody tr th:only-of-type {\n",
       "        vertical-align: middle;\n",
       "    }\n",
       "\n",
       "    .dataframe tbody tr th {\n",
       "        vertical-align: top;\n",
       "    }\n",
       "\n",
       "    .dataframe thead th {\n",
       "        text-align: right;\n",
       "    }\n",
       "</style>\n",
       "<table border=\"1\" class=\"dataframe\">\n",
       "  <thead>\n",
       "    <tr style=\"text-align: right;\">\n",
       "      <th></th>\n",
       "      <th>Country</th>\n",
       "      <th>Category</th>\n",
       "      <th>Code</th>\n",
       "    </tr>\n",
       "  </thead>\n",
       "  <tbody>\n",
       "    <tr>\n",
       "      <th>0</th>\n",
       "      <td>United States</td>\n",
       "      <td>ADP Employment Change</td>\n",
       "      <td>USA_ADP</td>\n",
       "    </tr>\n",
       "    <tr>\n",
       "      <th>1</th>\n",
       "      <td>United States</td>\n",
       "      <td>Average Hourly Earnings</td>\n",
       "      <td>USA_EARN</td>\n",
       "    </tr>\n",
       "    <tr>\n",
       "      <th>2</th>\n",
       "      <td>United States</td>\n",
       "      <td>Average Weekly Hours</td>\n",
       "      <td>USA_HRS</td>\n",
       "    </tr>\n",
       "    <tr>\n",
       "      <th>8</th>\n",
       "      <td>United States</td>\n",
       "      <td>Challenger Job Cuts</td>\n",
       "      <td>USA_CHJC</td>\n",
       "    </tr>\n",
       "    <tr>\n",
       "      <th>15</th>\n",
       "      <td>United States</td>\n",
       "      <td>Dallas Fed Manufacturing Index</td>\n",
       "      <td>USA_DFMI</td>\n",
       "    </tr>\n",
       "    <tr>\n",
       "      <th>31</th>\n",
       "      <td>United States</td>\n",
       "      <td>Job Offers</td>\n",
       "      <td>USA_JBO</td>\n",
       "    </tr>\n",
       "    <tr>\n",
       "      <th>40</th>\n",
       "      <td>United States</td>\n",
       "      <td>Non Manufacturing PMI</td>\n",
       "      <td>USA_NMPMI</td>\n",
       "    </tr>\n",
       "    <tr>\n",
       "      <th>42</th>\n",
       "      <td>United States</td>\n",
       "      <td>NY Empire State Manufacturing Index</td>\n",
       "      <td>USA_EMPST</td>\n",
       "    </tr>\n",
       "    <tr>\n",
       "      <th>43</th>\n",
       "      <td>United States</td>\n",
       "      <td>Pending Home Sales</td>\n",
       "      <td>USA_PHS</td>\n",
       "    </tr>\n",
       "    <tr>\n",
       "      <th>45</th>\n",
       "      <td>United States</td>\n",
       "      <td>Producer Prices</td>\n",
       "      <td>USA_PP</td>\n",
       "    </tr>\n",
       "  </tbody>\n",
       "</table>\n",
       "</div>"
      ],
      "text/plain": [
       "          Country                             Category       Code\n",
       "0   United States                ADP Employment Change    USA_ADP\n",
       "1   United States              Average Hourly Earnings   USA_EARN\n",
       "2   United States                 Average Weekly Hours    USA_HRS\n",
       "8   United States                  Challenger Job Cuts   USA_CHJC\n",
       "15  United States      Dallas Fed Manufacturing Index    USA_DFMI\n",
       "31  United States                           Job Offers    USA_JBO\n",
       "40  United States                Non Manufacturing PMI  USA_NMPMI\n",
       "42  United States  NY Empire State Manufacturing Index  USA_EMPST\n",
       "43  United States                   Pending Home Sales    USA_PHS\n",
       "45  United States                      Producer Prices     USA_PP"
      ]
     },
     "execution_count": 159,
     "metadata": {},
     "output_type": "execute_result"
    }
   ],
   "source": [
    "# drop indicators that only have data from 1994 or later\n",
    "cols_to_drop = df.loc[:, df.isna().sum() > 48].columns.tolist()\n",
    "names[names['Code'].isin(cols_to_drop)] # just nice 10 columns"
   ]
  },
  {
   "cell_type": "code",
   "execution_count": 182,
   "metadata": {
    "scrolled": true
   },
   "outputs": [],
   "source": [
    "# fill NAs by linearly interpolating between known values\n",
    "# 1 month rolling window to overcome NAs between new months\n",
    "# use rolling mean of interpolated values for simplicity\n",
    "# rounding to prevent overfitting of models to interpolation\n",
    "indicators = df.drop(columns=cols_to_drop)\\\n",
    "                .asfreq('D').asfreq('B')\\\n",
    "                .interpolate()\\\n",
    "                .rolling(20, min_periods=2)\\\n",
    "                .mean()\\\n",
    "                .round(2)"
   ]
  },
  {
   "cell_type": "code",
   "execution_count": 184,
   "metadata": {},
   "outputs": [],
   "source": [
    "base_train = df.drop(columns=cols_to_drop)\\\n",
    "                .asfreq('D').asfreq('B')\\\n",
    "                .loc[:'2015-12-31',:]\\\n",
    "                .interpolate()\\\n",
    "                .rolling(20, min_periods=2)\\\n",
    "                .mean()\\\n",
    "                .round(2)\n",
    "base_train.to_pickle('data_indicators_base_train.pkl')"
   ]
  },
  {
   "cell_type": "code",
   "execution_count": 185,
   "metadata": {},
   "outputs": [],
   "source": [
    "base_test = df.drop(columns=cols_to_drop)\\\n",
    "                .asfreq('D').asfreq('B')\\\n",
    "                .loc['2016-01-01':'2017-12-31',:]\\\n",
    "                .interpolate()\\\n",
    "                .rolling(20, min_periods=2)\\\n",
    "                .mean()\\\n",
    "                .round(2)\n",
    "base_test.to_pickle('data_indicators_base_test.pkl')"
   ]
  },
  {
   "cell_type": "code",
   "execution_count": 186,
   "metadata": {},
   "outputs": [],
   "source": [
    "stack_test = df.drop(columns=cols_to_drop)\\\n",
    "                .asfreq('D').asfreq('B')\\\n",
    "                .loc['2018-01-01':,:]\\\n",
    "                .interpolate()\\\n",
    "                .rolling(20, min_periods=2)\\\n",
    "                .mean()\\\n",
    "                .round(2)\n",
    "stack_test.to_pickle('data_indicators_stack_test.pkl')"
   ]
  }
 ],
 "metadata": {
  "kernelspec": {
   "display_name": "Python 2",
   "language": "python",
   "name": "python2"
  },
  "language_info": {
   "codemirror_mode": {
    "name": "ipython",
    "version": 2
   },
   "file_extension": ".py",
   "mimetype": "text/x-python",
   "name": "python",
   "nbconvert_exporter": "python",
   "pygments_lexer": "ipython2",
   "version": "2.7.15"
  }
 },
 "nbformat": 4,
 "nbformat_minor": 2
}
