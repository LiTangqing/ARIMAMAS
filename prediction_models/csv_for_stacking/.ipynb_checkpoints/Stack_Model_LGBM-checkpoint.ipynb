{
 "cells": [
  {
   "cell_type": "code",
   "execution_count": 2,
   "metadata": {},
   "outputs": [],
   "source": [
    "import numpy as np\n",
    "import pandas as pd\n",
    "from sklearn.linear_model import LinearRegression\n",
    "import os"
   ]
  },
  {
   "cell_type": "code",
   "execution_count": 3,
   "metadata": {},
   "outputs": [],
   "source": [
    "os.chdir('C:\\\\Users\\\\Cheong\\\\Documents\\\\GitHub\\\\ARIMAMAS\\\\prediction_models')\n",
    "from helper_functions import *"
   ]
  },
  {
   "cell_type": "code",
   "execution_count": 13,
   "metadata": {},
   "outputs": [
    {
     "name": "stderr",
     "output_type": "stream",
     "text": [
      "C:\\Users\\Cheong\\Anaconda3\\lib\\site-packages\\pandas\\core\\indexes\\base.py:162: FutureWarning: the 'labels' keyword is deprecated, use 'codes' instead\n",
      "  return cls.__new__(cls, **d)\n",
      "C:\\Users\\Cheong\\Anaconda3\\lib\\site-packages\\pandas\\core\\indexes\\base.py:162: FutureWarning: the 'labels' keyword is deprecated, use 'codes' instead\n",
      "  return cls.__new__(cls, **d)\n",
      "C:\\Users\\Cheong\\Anaconda3\\lib\\site-packages\\pandas\\core\\indexes\\base.py:162: FutureWarning: the 'labels' keyword is deprecated, use 'codes' instead\n",
      "  return cls.__new__(cls, **d)\n",
      "C:\\Users\\Cheong\\Anaconda3\\lib\\site-packages\\pandas\\core\\indexes\\base.py:162: FutureWarning: the 'labels' keyword is deprecated, use 'codes' instead\n",
      "  return cls.__new__(cls, **d)\n",
      "C:\\Users\\Cheong\\Anaconda3\\lib\\site-packages\\pandas\\core\\indexes\\base.py:162: FutureWarning: the 'labels' keyword is deprecated, use 'codes' instead\n",
      "  return cls.__new__(cls, **d)\n",
      "C:\\Users\\Cheong\\Anaconda3\\lib\\site-packages\\pandas\\core\\indexes\\base.py:162: FutureWarning: the 'labels' keyword is deprecated, use 'codes' instead\n",
      "  return cls.__new__(cls, **d)\n"
     ]
    }
   ],
   "source": [
    "os.chdir('C:\\\\Users\\\\Cheong\\\\Documents\\\\GitHub\\\\ARIMAMAS\\\\prediction_models\\\\csv_for_stacking')\n",
    "\n",
    "all_x_train = pd.read_csv(\"./Stacked_Model_train_x.csv\", low_memory=False, header=0)\n",
    "all_x_test = pd.read_csv(\"./STacked_Model_test_x.csv\", low_memory=False, header=0)\n",
    "\n",
    "os.chdir('C:\\\\Users\\\\Cheong\\\\Documents\\\\GitHub\\\\ARIMAMAS\\\\data')\n",
    "\n",
    "all_y_train = pd.read_pickle(\"data_base_test.pkl\")\n",
    "all_y_test = pd.read_pickle(\"data_stack_test.pkl\")"
   ]
  },
  {
   "cell_type": "code",
   "execution_count": 10,
   "metadata": {},
   "outputs": [],
   "source": [
    "# All 88 futures\n",
    "futures = ['F_AD','F_BO','F_BP','F_C','F_CC','F_CD',\n",
    "                           'F_CL','F_CT','F_DX','F_EC','F_ED','F_ES',\n",
    "                           'F_FC','F_FV','F_GC','F_HG','F_HO','F_JY',\n",
    "                           'F_KC','F_LB','F_LC','F_LN','F_MD','F_MP',\n",
    "                           'F_NG','F_NQ','F_NR','F_O','F_OJ','F_PA',\n",
    "                           'F_PL','F_RB','F_RU','F_S','F_SB','F_SF',\n",
    "                           'F_SI','F_SM','F_TU','F_TY','F_US','F_W',\n",
    "                           'F_XX','F_YM','F_AX','F_CA','F_DT','F_UB',\n",
    "                           'F_UZ','F_GS','F_LX','F_SS','F_DL','F_ZQ',\n",
    "                           'F_VX','F_AE','F_BG','F_BC','F_LU','F_DM',\n",
    "                           'F_AH','F_CF','F_DZ','F_FB','F_FL','F_FM',\n",
    "                           'F_FP','F_FY','F_GX','F_HP','F_LR','F_LQ',\n",
    "                           'F_ND','F_NY','F_PQ','F_RR','F_RF','F_RP',\n",
    "                           'F_RY','F_SH','F_SX','F_TR','F_EB','F_VF',\n",
    "                           'F_VT','F_VW','F_GD','F_F']"
   ]
  },
  {
   "cell_type": "code",
   "execution_count": 33,
   "metadata": {},
   "outputs": [
    {
     "name": "stdout",
     "output_type": "stream",
     "text": [
      "Mean Absolute Percentage Error for  F_AD :  0.5425741006497867\n",
      "Root Mean Squared Error for  F_AD :  1.8311261370466392\n"
     ]
    }
   ],
   "source": [
    "from sklearn.preprocessing import StandardScaler\n",
    "import lightgbm as lgb\n",
    "\n",
    "scaler = StandardScaler()\n",
    "\n",
    "for fut in futures:\n",
    "    \n",
    "    if fut != \"F_AD\":\n",
    "        continue\n",
    "        \n",
    "    lst1=[]\n",
    "    for col in all_x_train.columns:\n",
    "        if fut in col:\n",
    "            lst1.append(col)\n",
    "    x_train = all_x_train.loc[:, lst1]\n",
    "    x_train = x_train.fillna(method='bfill')\n",
    "    x_train = scaler.fit_transform(x_train)\n",
    "    \n",
    "    y_train = all_y_train[fut]['CLOSE']\n",
    "    y_train = pd.DataFrame(y_train)\n",
    "    y_train = y_train.fillna(method=\"bfill\")\n",
    "    \n",
    "    lst2=[]\n",
    "    for col in all_x_test.columns:\n",
    "        if fut in col:\n",
    "            lst2.append(col)\n",
    "    x_test = all_x_test.loc[:, lst2]\n",
    "    x_test = x_test.fillna(method=\"bfill\")\n",
    "    x_test = scaler.transform(x_test)\n",
    "    \n",
    "    y_test = all_y_test[fut]['CLOSE']\n",
    "    y_test = pd.DataFrame(y_test)\n",
    "    y_test = y_test.fillna(method=\"bfill\")\n",
    "    \n",
    "    d_train = lgb.Dataset(x_train, label=y_train)\n",
    "\n",
    "    #Set model params\n",
    "    params = {}\n",
    "    params['learning_rate'] = 0.5          \n",
    "    params['boosting_type'] = 'gbdt'\n",
    "    params['objective'] = 'regression'\n",
    "    params['metric'] = 'mse'\n",
    "    params['sub_feature'] = 0.8\n",
    "    params['num_leaves'] = 20               \n",
    "    params['min_data'] = 20\n",
    "    params['max_depth'] = 20\n",
    "\n",
    "    lgbmodel = lgb.train(params, d_train, 100)\n",
    "\n",
    "    #Predictions\n",
    "    y_pred = lgbmodel.predict(x_test)\n",
    "    \n",
    "    print('Mean Absolute Percentage Error for ', fut, ': ', mean_absolute_percentage_error(y_test[\"CLOSE\"], y_pred))  \n",
    "    print('Root Mean Squared Error for ', fut, ': ', rmse_ratio(y_test[\"CLOSE\"], y_pred))"
   ]
  },
  {
   "cell_type": "code",
   "execution_count": 34,
   "metadata": {},
   "outputs": [
    {
     "data": {
      "text/plain": [
       "['F_AD_LGBM', 'F_AD_LSTM', 'F_AD_RF', 'F_AD_LR']"
      ]
     },
     "execution_count": 34,
     "metadata": {},
     "output_type": "execute_result"
    }
   ],
   "source": [
    "lst1"
   ]
  },
  {
   "cell_type": "code",
   "execution_count": 21,
   "metadata": {},
   "outputs": [
    {
     "data": {
      "text/plain": [
       "DATE\n",
       "2016-01-01         NaN\n",
       "2016-01-04    71580.00\n",
       "2016-01-05    71270.00\n",
       "2016-01-06    70370.00\n",
       "2016-01-07    69730.00\n",
       "2016-01-08    69630.00\n",
       "2016-01-11    69610.00\n",
       "2016-01-12    69640.00\n",
       "2016-01-13    69390.00\n",
       "2016-01-14    69770.00\n",
       "2016-01-15    68420.00\n",
       "2016-01-18         NaN\n",
       "2016-01-19    68890.00\n",
       "2016-01-20    68810.00\n",
       "2016-01-21    69730.00\n",
       "2016-01-22    69900.00\n",
       "2016-01-25    69530.00\n",
       "2016-01-26    70000.00\n",
       "2016-01-27    70150.00\n",
       "2016-01-28    70630.00\n",
       "2016-01-29    70530.00\n",
       "2016-02-01    70850.00\n",
       "2016-02-02    70350.00\n",
       "2016-02-03    71650.00\n",
       "2016-02-04    71910.00\n",
       "2016-02-05    70540.00\n",
       "2016-02-08    70720.00\n",
       "2016-02-09    70430.00\n",
       "2016-02-10    71010.00\n",
       "2016-02-11    70880.00\n",
       "                ...   \n",
       "2017-11-20    75460.00\n",
       "2017-11-21    75770.00\n",
       "2017-11-22    76210.00\n",
       "2017-11-23         NaN\n",
       "2017-11-24    76120.01\n",
       "2017-11-27    76060.00\n",
       "2017-11-28    75950.00\n",
       "2017-11-29    75760.00\n",
       "2017-11-30    75650.01\n",
       "2017-12-01    76100.00\n",
       "2017-12-04    75930.01\n",
       "2017-12-05    76050.00\n",
       "2017-12-06    75620.00\n",
       "2017-12-07    75090.00\n",
       "2017-12-08    75080.00\n",
       "2017-12-11    75250.00\n",
       "2017-12-12    75580.00\n",
       "2017-12-13    76390.00\n",
       "2017-12-14    76630.00\n",
       "2017-12-15    76430.00\n",
       "2017-12-18    76630.00\n",
       "2017-12-19    76590.00\n",
       "2017-12-20    76640.00\n",
       "2017-12-21    77030.00\n",
       "2017-12-22    77130.00\n",
       "2017-12-25         NaN\n",
       "2017-12-26    77270.00\n",
       "2017-12-27    77740.00\n",
       "2017-12-28    77940.00\n",
       "2017-12-29    78090.00\n",
       "Freq: B, Name: CLOSE, Length: 521, dtype: float64"
      ]
     },
     "execution_count": 21,
     "metadata": {},
     "output_type": "execute_result"
    }
   ],
   "source": []
  },
  {
   "cell_type": "code",
   "execution_count": null,
   "metadata": {},
   "outputs": [],
   "source": []
  }
 ],
 "metadata": {
  "kernelspec": {
   "display_name": "Python 2",
   "language": "python",
   "name": "python2"
  },
  "language_info": {
   "codemirror_mode": {
    "name": "ipython",
    "version": 2
   },
   "file_extension": ".py",
   "mimetype": "text/x-python",
   "name": "python",
   "nbconvert_exporter": "python",
   "pygments_lexer": "ipython2",
   "version": "2.7.15"
  }
 },
 "nbformat": 4,
 "nbformat_minor": 2
}
