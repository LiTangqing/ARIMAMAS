{
 "cells": [
  {
   "cell_type": "code",
   "execution_count": 241,
   "metadata": {},
   "outputs": [],
   "source": [
    "import numpy as np\n",
    "import pickle\n",
    "import pandas as pd\n",
    "#import matplotlib.pyplot as plt\n",
    "\n",
    "from keras.models import Sequential\n",
    "from keras.layers import Activation, Dense, Input, Reshape, Flatten,TimeDistributed\n",
    "from keras.layers import LSTM, Dropout\n",
    "from keras.layers.convolutional import Conv1D\n",
    "from keras.layers.pooling import MaxPooling1D\n",
    "from keras.layers import ConvLSTM2D\n",
    "\n",
    "from tqdm import tqdm\n",
    "import time\n",
    "\n",
    "from helper_functions import *\n"
   ]
  },
  {
   "cell_type": "code",
   "execution_count": 242,
   "metadata": {},
   "outputs": [],
   "source": [
    "DATA_FOLDER = \"../data/\""
   ]
  },
  {
   "cell_type": "code",
   "execution_count": 243,
   "metadata": {
    "scrolled": true
   },
   "outputs": [
    {
     "data": {
      "text/plain": [
       "['data_base_test.pkl',\n",
       " '.DS_Store',\n",
       " 'data_base_train.pkl',\n",
       " 'data_indicators_base_train.pkl',\n",
       " 'quantiacs_futures_details.csv',\n",
       " 'data_indicators_base_test.pkl',\n",
       " 'Data Library.ipynb',\n",
       " 'data_indicators_stack_test.pkl',\n",
       " 'data_stack_test.pkl']"
      ]
     },
     "execution_count": 243,
     "metadata": {},
     "output_type": "execute_result"
    }
   ],
   "source": [
    "import os\n",
    "os.listdir(DATA_FOLDER)"
   ]
  },
  {
   "cell_type": "markdown",
   "metadata": {},
   "source": [
    "latest is USA_RFMI 1993-12-01 00:00:00"
   ]
  },
  {
   "cell_type": "code",
   "execution_count": 244,
   "metadata": {},
   "outputs": [],
   "source": [
    "def read_from_pkl(PATH):\n",
    "    data = pickle.load(open(DATA_FOLDER + PATH, \"rb\" ), encoding='latin1')\n",
    "    return data\n",
    "    "
   ]
  },
  {
   "cell_type": "code",
   "execution_count": 245,
   "metadata": {},
   "outputs": [],
   "source": [
    "def preprocess_train(price_data, indicator):\n",
    "    price_data = price_data.loc[price_data.index >= '1994-01-01']\n",
    "    start_index = price_data['CLOSE'].first_valid_index()\n",
    "    price_data = price_data.loc[price_data.index >= start_index]\n",
    "    print(\"price data start from: \", start_index)\n",
    "    print(\"merge with indicators ...\")\n",
    "    train = price_data.join(indicator, on='DATE')\n",
    "    print(\"fill NAs ...\")\n",
    "    train = train.fillna(method=\"bfill\").reset_index()\n",
    "    train.rename(columns = {'DATE':'ds','CLOSE':'y'},inplace=True)\n",
    "    print(\"Done\")\n",
    "    return train"
   ]
  },
  {
   "cell_type": "code",
   "execution_count": 246,
   "metadata": {},
   "outputs": [],
   "source": [
    "def preprocess_test(price_data, indicator):\n",
    "    #price_data = price_data.loc[price_data.index >= '1994-01-01']\n",
    "    #start_index = price_data['CLOSE'].first_valid_index()\n",
    "    #price_data = price_data.loc[price_data.index >= start_index]\n",
    "    #print(\"price data start from: \", start_index)\n",
    "    print(\"merge with indicators ...\")\n",
    "    test = price_data.join(indicator, on='DATE')\n",
    "    print(\"fill NAs ...\")\n",
    "    test = test.fillna(method=\"bfill\").reset_index()\n",
    "    test.rename(columns = {'DATE':'ds','CLOSE':'y'},inplace=True)\n",
    "    print(\"Done\")\n",
    "    return test"
   ]
  },
  {
   "cell_type": "markdown",
   "metadata": {},
   "source": [
    "### Read data "
   ]
  },
  {
   "cell_type": "code",
   "execution_count": 247,
   "metadata": {},
   "outputs": [],
   "source": [
    "train = read_from_pkl(\"data_base_train.pkl\" ) \n",
    "test = read_from_pkl(\"data_base_test.pkl\" ) \n",
    "train_idc = read_from_pkl(\"data_indicators_base_train.pkl\") \n",
    "test_idc = read_from_pkl(\"data_indicators_base_test.pkl\") "
   ]
  },
  {
   "cell_type": "markdown",
   "metadata": {},
   "source": [
    "preprocess "
   ]
  },
  {
   "cell_type": "code",
   "execution_count": 248,
   "metadata": {},
   "outputs": [
    {
     "name": "stdout",
     "output_type": "stream",
     "text": [
      "price data start from:  1994-01-03 00:00:00\n",
      "merge with indicators ...\n",
      "fill NAs ...\n",
      "Done\n",
      "merge with indicators ...\n",
      "fill NAs ...\n",
      "Done\n"
     ]
    }
   ],
   "source": [
    "fad_train = preprocess_train(train['F_AD'], train_idc)\n",
    "fad_test = preprocess_test(test['F_AD'], test_idc)"
   ]
  },
  {
   "cell_type": "code",
   "execution_count": 254,
   "metadata": {},
   "outputs": [],
   "source": [
    "from fbprophet import Prophet\n",
    "\n",
    "def run_prophet(train, test):\n",
    "    model = Prophet()  \n",
    "    \n",
    "    model.add_country_holidays(country_name='US')\n",
    "    \n",
    "    # concate data with extra regressors \n",
    "    # train_idc = train_idc.reset_index(drop=True)\n",
    "    # train = pd.concat([train,train_idc], axis=1)\n",
    "    # print(train.head())\n",
    "    \n",
    "    for each in list(train_idc.columns):\n",
    "        if each == \"ds\":\n",
    "            pass\n",
    "        if each == \"y\":\n",
    "            pass\n",
    "        model.add_regressor(each)\n",
    "        \n",
    "    # fit model\n",
    "    model.fit(train)\n",
    "    \n",
    "    # predict\n",
    "    forecast = model.predict(test)\n",
    "    y_pred = forecast['yhat']\n",
    "    \n",
    "    true_pred = pd.DataFrame({'y_true':test['y'], \n",
    "                              'y_pred': y_pred})\n",
    "    true_pred.dropna()\n",
    "    \n",
    "    rmse = rmse_ratio(true_pred['y_pred'], true_pred['y_true'])\n",
    "    mape = mean_absolute_percentage_error(true_pred['y_pred'], true_pred['y_true'])\n",
    "    \n",
    "    print(\"rmse:\", rmse)\n",
    "    print(\"mape:\", mape)\n",
    "    #print(y_pred, test['y'])\n",
    "    \n",
    "    return forecast, true_pred"
   ]
  },
  {
   "cell_type": "code",
   "execution_count": 255,
   "metadata": {},
   "outputs": [
    {
     "data": {
      "text/plain": [
       "Index(['ds', 'OPEN', 'HIGH', 'LOW', 'y', 'USA_BC', 'USA_BI', 'USA_BOT',\n",
       "       'USA_CCPI', 'USA_CCR', 'USA_CF', 'USA_CFNAI', 'USA_CINF', 'USA_CP',\n",
       "       'USA_CPI', 'USA_CPIC', 'USA_CPICM', 'USA_CU', 'USA_DUR', 'USA_DURET',\n",
       "       'USA_EXPX', 'USA_EXVOL', 'USA_FBI', 'USA_FRET', 'USA_GBVL', 'USA_GPAY',\n",
       "       'USA_HI', 'USA_IMPX', 'USA_IMVOL', 'USA_IP', 'USA_IPMOM', 'USA_LEI',\n",
       "       'USA_LFPR', 'USA_MP', 'USA_MPAY', 'USA_NAHB', 'USA_NFIB', 'USA_NFP',\n",
       "       'USA_NLTTF', 'USA_NPP', 'USA_PFED', 'USA_PPIC', 'USA_RFMI', 'USA_RSEA',\n",
       "       'USA_RSM', 'USA_RSY', 'USA_TVS', 'USA_UNR', 'USA_WINV'],\n",
       "      dtype='object')"
      ]
     },
     "execution_count": 255,
     "metadata": {},
     "output_type": "execute_result"
    }
   ],
   "source": [
    "fad_test.columns"
   ]
  },
  {
   "cell_type": "code",
   "execution_count": 256,
   "metadata": {},
   "outputs": [
    {
     "name": "stderr",
     "output_type": "stream",
     "text": [
      "INFO:fbprophet:Disabling daily seasonality. Run prophet with daily_seasonality=True to override this.\n",
      "/anaconda3/lib/python3.6/site-packages/pystan/misc.py:399: FutureWarning: Conversion of the second argument of issubdtype from `float` to `np.floating` is deprecated. In future, it will be treated as `np.float64 == np.dtype(float).type`.\n",
      "  elif np.issubdtype(np.asarray(v).dtype, float):\n"
     ]
    },
    {
     "name": "stdout",
     "output_type": "stream",
     "text": [
      "rmse: 50.808251543778866\n",
      "mape: 18.80890341449131\n"
     ]
    }
   ],
   "source": [
    "forecast, result = run_prophet(fad_train, fad_test)"
   ]
  },
  {
   "cell_type": "code",
   "execution_count": 141,
   "metadata": {},
   "outputs": [
    {
     "data": {
      "text/html": [
       "<div>\n",
       "<style scoped>\n",
       "    .dataframe tbody tr th:only-of-type {\n",
       "        vertical-align: middle;\n",
       "    }\n",
       "\n",
       "    .dataframe tbody tr th {\n",
       "        vertical-align: top;\n",
       "    }\n",
       "\n",
       "    .dataframe thead th {\n",
       "        text-align: right;\n",
       "    }\n",
       "</style>\n",
       "<table border=\"1\" class=\"dataframe\">\n",
       "  <thead>\n",
       "    <tr style=\"text-align: right;\">\n",
       "      <th></th>\n",
       "      <th>y_true</th>\n",
       "      <th>y_pred</th>\n",
       "    </tr>\n",
       "  </thead>\n",
       "  <tbody>\n",
       "    <tr>\n",
       "      <th>0</th>\n",
       "      <td>NaN</td>\n",
       "      <td>78847.010121</td>\n",
       "    </tr>\n",
       "    <tr>\n",
       "      <th>1</th>\n",
       "      <td>71580.0</td>\n",
       "      <td>78964.448405</td>\n",
       "    </tr>\n",
       "    <tr>\n",
       "      <th>2</th>\n",
       "      <td>71270.0</td>\n",
       "      <td>79028.291220</td>\n",
       "    </tr>\n",
       "    <tr>\n",
       "      <th>3</th>\n",
       "      <td>70370.0</td>\n",
       "      <td>79078.856022</td>\n",
       "    </tr>\n",
       "    <tr>\n",
       "      <th>4</th>\n",
       "      <td>69730.0</td>\n",
       "      <td>79159.083189</td>\n",
       "    </tr>\n",
       "    <tr>\n",
       "      <th>5</th>\n",
       "      <td>69630.0</td>\n",
       "      <td>79181.128901</td>\n",
       "    </tr>\n",
       "    <tr>\n",
       "      <th>6</th>\n",
       "      <td>69610.0</td>\n",
       "      <td>79216.235049</td>\n",
       "    </tr>\n",
       "    <tr>\n",
       "      <th>7</th>\n",
       "      <td>69640.0</td>\n",
       "      <td>79241.611735</td>\n",
       "    </tr>\n",
       "    <tr>\n",
       "      <th>8</th>\n",
       "      <td>69390.0</td>\n",
       "      <td>79249.393915</td>\n",
       "    </tr>\n",
       "    <tr>\n",
       "      <th>9</th>\n",
       "      <td>69770.0</td>\n",
       "      <td>79283.397082</td>\n",
       "    </tr>\n",
       "  </tbody>\n",
       "</table>\n",
       "</div>"
      ],
      "text/plain": [
       "    y_true        y_pred\n",
       "0      NaN  78847.010121\n",
       "1  71580.0  78964.448405\n",
       "2  71270.0  79028.291220\n",
       "3  70370.0  79078.856022\n",
       "4  69730.0  79159.083189\n",
       "5  69630.0  79181.128901\n",
       "6  69610.0  79216.235049\n",
       "7  69640.0  79241.611735\n",
       "8  69390.0  79249.393915\n",
       "9  69770.0  79283.397082"
      ]
     },
     "execution_count": 141,
     "metadata": {},
     "output_type": "execute_result"
    }
   ],
   "source": [
    "result.head(10)"
   ]
  },
  {
   "cell_type": "code",
   "execution_count": null,
   "metadata": {},
   "outputs": [],
   "source": []
  },
  {
   "cell_type": "code",
   "execution_count": 5,
   "metadata": {},
   "outputs": [],
   "source": [
    "train1 = train['F_AD','CLOSE'].reset_index()\n",
    "train1.columns = ['Date','CLOSE']\n",
    "train1['Date'] = pd.to_datetime(train1['Date'],format='%Y-%m-%d')"
   ]
  },
  {
   "cell_type": "code",
   "execution_count": 6,
   "metadata": {},
   "outputs": [],
   "source": [
    "train1.columns=['ds','y']"
   ]
  },
  {
   "cell_type": "markdown",
   "metadata": {},
   "source": [
    "#### Prophet Model"
   ]
  },
  {
   "cell_type": "code",
   "execution_count": 7,
   "metadata": {},
   "outputs": [
    {
     "name": "stderr",
     "output_type": "stream",
     "text": [
      "INFO:fbprophet:Disabling daily seasonality. Run prophet with daily_seasonality=True to override this.\n",
      "/anaconda3/lib/python3.6/site-packages/pystan/misc.py:399: FutureWarning: Conversion of the second argument of issubdtype from `float` to `np.floating` is deprecated. In future, it will be treated as `np.float64 == np.dtype(float).type`.\n",
      "  elif np.issubdtype(np.asarray(v).dtype, float):\n"
     ]
    },
    {
     "data": {
      "text/plain": [
       "<fbprophet.forecaster.Prophet at 0x129b89e10>"
      ]
     },
     "execution_count": 7,
     "metadata": {},
     "output_type": "execute_result"
    }
   ],
   "source": [
    "from fbprophet import Prophet\n",
    "model = Prophet(holidays=holidays) # add holidays\n",
    "model.add_country_holidays(country_name='US')\n",
    "\n",
    "model.fit(train1)"
   ]
  },
  {
   "cell_type": "code",
   "execution_count": 8,
   "metadata": {},
   "outputs": [],
   "source": [
    "test1 = test['F_AD','CLOSE'].reset_index()\n",
    "test1.columns = ['Date','CLOSE']\n",
    "#test1['Date'] = pd.to_datetime(test['Date'],format='%Y-%m-%d')\n",
    "test1.columns=['ds','y']"
   ]
  },
  {
   "cell_type": "code",
   "execution_count": 13,
   "metadata": {},
   "outputs": [],
   "source": [
    "forecast = model.predict(test1[['ds']])"
   ]
  },
  {
   "cell_type": "code",
   "execution_count": 35,
   "metadata": {},
   "outputs": [
    {
     "data": {
      "image/png": "[encoded data removed]",
      "text/plain": [
       "<Figure size 720x432 with 1 Axes>"
      ]
     },
     "metadata": {},
     "output_type": "display_data"
    }
   ],
   "source": [
    "fig1 = model.plot(forecast)"
   ]
  },
  {
   "cell_type": "code",
   "execution_count": null,
   "metadata": {},
   "outputs": [],
   "source": [
    "test1[['ds']]"
   ]
  },
  {
   "cell_type": "code",
   "execution_count": 38,
   "metadata": {},
   "outputs": [
    {
     "data": {
      "text/plain": [
       "5178.758105176484"
      ]
     },
     "execution_count": 38,
     "metadata": {},
     "output_type": "execute_result"
    }
   ],
   "source": [
    "26819535.511931125 ** 0.5"
   ]
  },
  {
   "cell_type": "code",
   "execution_count": null,
   "metadata": {},
   "outputs": [],
   "source": []
  }
 ],
 "metadata": {
  "kernelspec": {
   "display_name": "Python [default]",
   "language": "python",
   "name": "python3"
  },
  "language_info": {
   "codemirror_mode": {
    "name": "ipython",
    "version": 3
   },
   "file_extension": ".py",
   "mimetype": "text/x-python",
   "name": "python",
   "nbconvert_exporter": "python",
   "pygments_lexer": "ipython3",
   "version": "3.6.2"
  }
 },
 "nbformat": 4,
 "nbformat_minor": 2
}
